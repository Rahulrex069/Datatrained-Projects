{
 "cells": [
  {
   "cell_type": "code",
   "execution_count": 554,
   "metadata": {},
   "outputs": [],
   "source": [
    "import pandas as pd\n",
    "import numpy as np\n",
    "import seaborn as sns\n",
    "import matplotlib.pyplot as plt\n",
    "from sklearn.ensemble import RandomForestClassifier\n",
    "from sklearn.naive_bayes import MultinomialNB\n",
    "from sklearn.svm import SVC\n",
    "from sklearn.tree import DecisionTreeClassifier\n",
    "from sklearn.neighbors import KNeighborsClassifier\n",
    "from sklearn.model_selection import train_test_split\n",
    "from sklearn.metrics import accuracy_score,confusion_matrix,classification_report\n",
    "from sklearn.metrics import mean_absolute_error,mean_squared_error\n",
    "from sklearn.metrics import accuracy_score\n",
    "from sklearn.model_selection import cross_val_score\n",
    "from sklearn.model_selection import GridSearchCV\n",
    "import warnings\n",
    "warnings.filterwarnings('ignore')"
   ]
  },
  {
   "cell_type": "code",
   "execution_count": 618,
   "metadata": {},
   "outputs": [
    {
     "data": {
      "text/html": [
       "<div>\n",
       "<style scoped>\n",
       "    .dataframe tbody tr th:only-of-type {\n",
       "        vertical-align: middle;\n",
       "    }\n",
       "\n",
       "    .dataframe tbody tr th {\n",
       "        vertical-align: top;\n",
       "    }\n",
       "\n",
       "    .dataframe thead th {\n",
       "        text-align: right;\n",
       "    }\n",
       "</style>\n",
       "<table border=\"1\" class=\"dataframe\">\n",
       "  <thead>\n",
       "    <tr style=\"text-align: right;\">\n",
       "      <th></th>\n",
       "      <th>Unnamed: 0</th>\n",
       "      <th>Date</th>\n",
       "      <th>AveragePrice</th>\n",
       "      <th>Total Volume</th>\n",
       "      <th>4046</th>\n",
       "      <th>4225</th>\n",
       "      <th>4770</th>\n",
       "      <th>Total Bags</th>\n",
       "      <th>Small Bags</th>\n",
       "      <th>Large Bags</th>\n",
       "      <th>XLarge Bags</th>\n",
       "      <th>type</th>\n",
       "      <th>year</th>\n",
       "      <th>region</th>\n",
       "    </tr>\n",
       "  </thead>\n",
       "  <tbody>\n",
       "    <tr>\n",
       "      <th>0</th>\n",
       "      <td>0</td>\n",
       "      <td>2015-12-27</td>\n",
       "      <td>1.33</td>\n",
       "      <td>64236.62</td>\n",
       "      <td>1036.74</td>\n",
       "      <td>54454.85</td>\n",
       "      <td>48.16</td>\n",
       "      <td>8696.87</td>\n",
       "      <td>8603.62</td>\n",
       "      <td>93.25</td>\n",
       "      <td>0.0</td>\n",
       "      <td>conventional</td>\n",
       "      <td>2015</td>\n",
       "      <td>Albany</td>\n",
       "    </tr>\n",
       "    <tr>\n",
       "      <th>1</th>\n",
       "      <td>1</td>\n",
       "      <td>2015-12-20</td>\n",
       "      <td>1.35</td>\n",
       "      <td>54876.98</td>\n",
       "      <td>674.28</td>\n",
       "      <td>44638.81</td>\n",
       "      <td>58.33</td>\n",
       "      <td>9505.56</td>\n",
       "      <td>9408.07</td>\n",
       "      <td>97.49</td>\n",
       "      <td>0.0</td>\n",
       "      <td>conventional</td>\n",
       "      <td>2015</td>\n",
       "      <td>Albany</td>\n",
       "    </tr>\n",
       "    <tr>\n",
       "      <th>2</th>\n",
       "      <td>2</td>\n",
       "      <td>2015-12-13</td>\n",
       "      <td>0.93</td>\n",
       "      <td>118220.22</td>\n",
       "      <td>794.70</td>\n",
       "      <td>109149.67</td>\n",
       "      <td>130.50</td>\n",
       "      <td>8145.35</td>\n",
       "      <td>8042.21</td>\n",
       "      <td>103.14</td>\n",
       "      <td>0.0</td>\n",
       "      <td>conventional</td>\n",
       "      <td>2015</td>\n",
       "      <td>Albany</td>\n",
       "    </tr>\n",
       "    <tr>\n",
       "      <th>3</th>\n",
       "      <td>3</td>\n",
       "      <td>2015-12-06</td>\n",
       "      <td>1.08</td>\n",
       "      <td>78992.15</td>\n",
       "      <td>1132.00</td>\n",
       "      <td>71976.41</td>\n",
       "      <td>72.58</td>\n",
       "      <td>5811.16</td>\n",
       "      <td>5677.40</td>\n",
       "      <td>133.76</td>\n",
       "      <td>0.0</td>\n",
       "      <td>conventional</td>\n",
       "      <td>2015</td>\n",
       "      <td>Albany</td>\n",
       "    </tr>\n",
       "    <tr>\n",
       "      <th>4</th>\n",
       "      <td>4</td>\n",
       "      <td>2015-11-29</td>\n",
       "      <td>1.28</td>\n",
       "      <td>51039.60</td>\n",
       "      <td>941.48</td>\n",
       "      <td>43838.39</td>\n",
       "      <td>75.78</td>\n",
       "      <td>6183.95</td>\n",
       "      <td>5986.26</td>\n",
       "      <td>197.69</td>\n",
       "      <td>0.0</td>\n",
       "      <td>conventional</td>\n",
       "      <td>2015</td>\n",
       "      <td>Albany</td>\n",
       "    </tr>\n",
       "    <tr>\n",
       "      <th>...</th>\n",
       "      <td>...</td>\n",
       "      <td>...</td>\n",
       "      <td>...</td>\n",
       "      <td>...</td>\n",
       "      <td>...</td>\n",
       "      <td>...</td>\n",
       "      <td>...</td>\n",
       "      <td>...</td>\n",
       "      <td>...</td>\n",
       "      <td>...</td>\n",
       "      <td>...</td>\n",
       "      <td>...</td>\n",
       "      <td>...</td>\n",
       "      <td>...</td>\n",
       "    </tr>\n",
       "    <tr>\n",
       "      <th>18244</th>\n",
       "      <td>7</td>\n",
       "      <td>2018-02-04</td>\n",
       "      <td>1.63</td>\n",
       "      <td>17074.83</td>\n",
       "      <td>2046.96</td>\n",
       "      <td>1529.20</td>\n",
       "      <td>0.00</td>\n",
       "      <td>13498.67</td>\n",
       "      <td>13066.82</td>\n",
       "      <td>431.85</td>\n",
       "      <td>0.0</td>\n",
       "      <td>organic</td>\n",
       "      <td>2018</td>\n",
       "      <td>WestTexNewMexico</td>\n",
       "    </tr>\n",
       "    <tr>\n",
       "      <th>18245</th>\n",
       "      <td>8</td>\n",
       "      <td>2018-01-28</td>\n",
       "      <td>1.71</td>\n",
       "      <td>13888.04</td>\n",
       "      <td>1191.70</td>\n",
       "      <td>3431.50</td>\n",
       "      <td>0.00</td>\n",
       "      <td>9264.84</td>\n",
       "      <td>8940.04</td>\n",
       "      <td>324.80</td>\n",
       "      <td>0.0</td>\n",
       "      <td>organic</td>\n",
       "      <td>2018</td>\n",
       "      <td>WestTexNewMexico</td>\n",
       "    </tr>\n",
       "    <tr>\n",
       "      <th>18246</th>\n",
       "      <td>9</td>\n",
       "      <td>2018-01-21</td>\n",
       "      <td>1.87</td>\n",
       "      <td>13766.76</td>\n",
       "      <td>1191.92</td>\n",
       "      <td>2452.79</td>\n",
       "      <td>727.94</td>\n",
       "      <td>9394.11</td>\n",
       "      <td>9351.80</td>\n",
       "      <td>42.31</td>\n",
       "      <td>0.0</td>\n",
       "      <td>organic</td>\n",
       "      <td>2018</td>\n",
       "      <td>WestTexNewMexico</td>\n",
       "    </tr>\n",
       "    <tr>\n",
       "      <th>18247</th>\n",
       "      <td>10</td>\n",
       "      <td>2018-01-14</td>\n",
       "      <td>1.93</td>\n",
       "      <td>16205.22</td>\n",
       "      <td>1527.63</td>\n",
       "      <td>2981.04</td>\n",
       "      <td>727.01</td>\n",
       "      <td>10969.54</td>\n",
       "      <td>10919.54</td>\n",
       "      <td>50.00</td>\n",
       "      <td>0.0</td>\n",
       "      <td>organic</td>\n",
       "      <td>2018</td>\n",
       "      <td>WestTexNewMexico</td>\n",
       "    </tr>\n",
       "    <tr>\n",
       "      <th>18248</th>\n",
       "      <td>11</td>\n",
       "      <td>2018-01-07</td>\n",
       "      <td>1.62</td>\n",
       "      <td>17489.58</td>\n",
       "      <td>2894.77</td>\n",
       "      <td>2356.13</td>\n",
       "      <td>224.53</td>\n",
       "      <td>12014.15</td>\n",
       "      <td>11988.14</td>\n",
       "      <td>26.01</td>\n",
       "      <td>0.0</td>\n",
       "      <td>organic</td>\n",
       "      <td>2018</td>\n",
       "      <td>WestTexNewMexico</td>\n",
       "    </tr>\n",
       "  </tbody>\n",
       "</table>\n",
       "<p>18249 rows × 14 columns</p>\n",
       "</div>"
      ],
      "text/plain": [
       "       Unnamed: 0        Date  AveragePrice  Total Volume     4046       4225  \\\n",
       "0               0  2015-12-27          1.33      64236.62  1036.74   54454.85   \n",
       "1               1  2015-12-20          1.35      54876.98   674.28   44638.81   \n",
       "2               2  2015-12-13          0.93     118220.22   794.70  109149.67   \n",
       "3               3  2015-12-06          1.08      78992.15  1132.00   71976.41   \n",
       "4               4  2015-11-29          1.28      51039.60   941.48   43838.39   \n",
       "...           ...         ...           ...           ...      ...        ...   \n",
       "18244           7  2018-02-04          1.63      17074.83  2046.96    1529.20   \n",
       "18245           8  2018-01-28          1.71      13888.04  1191.70    3431.50   \n",
       "18246           9  2018-01-21          1.87      13766.76  1191.92    2452.79   \n",
       "18247          10  2018-01-14          1.93      16205.22  1527.63    2981.04   \n",
       "18248          11  2018-01-07          1.62      17489.58  2894.77    2356.13   \n",
       "\n",
       "         4770  Total Bags  Small Bags  Large Bags  XLarge Bags          type  \\\n",
       "0       48.16     8696.87     8603.62       93.25          0.0  conventional   \n",
       "1       58.33     9505.56     9408.07       97.49          0.0  conventional   \n",
       "2      130.50     8145.35     8042.21      103.14          0.0  conventional   \n",
       "3       72.58     5811.16     5677.40      133.76          0.0  conventional   \n",
       "4       75.78     6183.95     5986.26      197.69          0.0  conventional   \n",
       "...       ...         ...         ...         ...          ...           ...   \n",
       "18244    0.00    13498.67    13066.82      431.85          0.0       organic   \n",
       "18245    0.00     9264.84     8940.04      324.80          0.0       organic   \n",
       "18246  727.94     9394.11     9351.80       42.31          0.0       organic   \n",
       "18247  727.01    10969.54    10919.54       50.00          0.0       organic   \n",
       "18248  224.53    12014.15    11988.14       26.01          0.0       organic   \n",
       "\n",
       "       year            region  \n",
       "0      2015            Albany  \n",
       "1      2015            Albany  \n",
       "2      2015            Albany  \n",
       "3      2015            Albany  \n",
       "4      2015            Albany  \n",
       "...     ...               ...  \n",
       "18244  2018  WestTexNewMexico  \n",
       "18245  2018  WestTexNewMexico  \n",
       "18246  2018  WestTexNewMexico  \n",
       "18247  2018  WestTexNewMexico  \n",
       "18248  2018  WestTexNewMexico  \n",
       "\n",
       "[18249 rows x 14 columns]"
      ]
     },
     "execution_count": 618,
     "metadata": {},
     "output_type": "execute_result"
    }
   ],
   "source": [
    "df = pd.read_csv('https://raw.githubusercontent.com/Rahulrex069/Datatrained-Projects/main/Evaluation%20Project%20Week1/avocado.csv')\n",
    "df"
   ]
  },
  {
   "cell_type": "code",
   "execution_count": 619,
   "metadata": {},
   "outputs": [
    {
     "data": {
      "text/plain": [
       "Index(['Unnamed: 0', 'Date', 'AveragePrice', 'Total Volume', '4046', '4225',\n",
       "       '4770', 'Total Bags', 'Small Bags', 'Large Bags', 'XLarge Bags', 'type',\n",
       "       'year', 'region'],\n",
       "      dtype='object')"
      ]
     },
     "execution_count": 619,
     "metadata": {},
     "output_type": "execute_result"
    }
   ],
   "source": [
    "df.columns"
   ]
  },
  {
   "cell_type": "markdown",
   "metadata": {},
   "source": [
    "AS we can see, there is first column given which is indexing, it is not required. Also as we alreay have year colums seperately, we don't need date colunm, Hence I will drop these two columns before moving ahead."
   ]
  },
  {
   "cell_type": "code",
   "execution_count": 620,
   "metadata": {},
   "outputs": [],
   "source": [
    "df.drop(df.columns[0], axis=1,inplace=True)\n",
    "df.drop(df.columns[0], axis=1,inplace=True)"
   ]
  },
  {
   "cell_type": "code",
   "execution_count": 621,
   "metadata": {},
   "outputs": [
    {
     "data": {
      "text/html": [
       "<div>\n",
       "<style scoped>\n",
       "    .dataframe tbody tr th:only-of-type {\n",
       "        vertical-align: middle;\n",
       "    }\n",
       "\n",
       "    .dataframe tbody tr th {\n",
       "        vertical-align: top;\n",
       "    }\n",
       "\n",
       "    .dataframe thead th {\n",
       "        text-align: right;\n",
       "    }\n",
       "</style>\n",
       "<table border=\"1\" class=\"dataframe\">\n",
       "  <thead>\n",
       "    <tr style=\"text-align: right;\">\n",
       "      <th></th>\n",
       "      <th>AveragePrice</th>\n",
       "      <th>Total Volume</th>\n",
       "      <th>4046</th>\n",
       "      <th>4225</th>\n",
       "      <th>4770</th>\n",
       "      <th>Total Bags</th>\n",
       "      <th>Small Bags</th>\n",
       "      <th>Large Bags</th>\n",
       "      <th>XLarge Bags</th>\n",
       "      <th>type</th>\n",
       "      <th>year</th>\n",
       "      <th>region</th>\n",
       "    </tr>\n",
       "  </thead>\n",
       "  <tbody>\n",
       "    <tr>\n",
       "      <th>0</th>\n",
       "      <td>1.33</td>\n",
       "      <td>64236.62</td>\n",
       "      <td>1036.74</td>\n",
       "      <td>54454.85</td>\n",
       "      <td>48.16</td>\n",
       "      <td>8696.87</td>\n",
       "      <td>8603.62</td>\n",
       "      <td>93.25</td>\n",
       "      <td>0.0</td>\n",
       "      <td>conventional</td>\n",
       "      <td>2015</td>\n",
       "      <td>Albany</td>\n",
       "    </tr>\n",
       "    <tr>\n",
       "      <th>1</th>\n",
       "      <td>1.35</td>\n",
       "      <td>54876.98</td>\n",
       "      <td>674.28</td>\n",
       "      <td>44638.81</td>\n",
       "      <td>58.33</td>\n",
       "      <td>9505.56</td>\n",
       "      <td>9408.07</td>\n",
       "      <td>97.49</td>\n",
       "      <td>0.0</td>\n",
       "      <td>conventional</td>\n",
       "      <td>2015</td>\n",
       "      <td>Albany</td>\n",
       "    </tr>\n",
       "    <tr>\n",
       "      <th>2</th>\n",
       "      <td>0.93</td>\n",
       "      <td>118220.22</td>\n",
       "      <td>794.70</td>\n",
       "      <td>109149.67</td>\n",
       "      <td>130.50</td>\n",
       "      <td>8145.35</td>\n",
       "      <td>8042.21</td>\n",
       "      <td>103.14</td>\n",
       "      <td>0.0</td>\n",
       "      <td>conventional</td>\n",
       "      <td>2015</td>\n",
       "      <td>Albany</td>\n",
       "    </tr>\n",
       "    <tr>\n",
       "      <th>3</th>\n",
       "      <td>1.08</td>\n",
       "      <td>78992.15</td>\n",
       "      <td>1132.00</td>\n",
       "      <td>71976.41</td>\n",
       "      <td>72.58</td>\n",
       "      <td>5811.16</td>\n",
       "      <td>5677.40</td>\n",
       "      <td>133.76</td>\n",
       "      <td>0.0</td>\n",
       "      <td>conventional</td>\n",
       "      <td>2015</td>\n",
       "      <td>Albany</td>\n",
       "    </tr>\n",
       "    <tr>\n",
       "      <th>4</th>\n",
       "      <td>1.28</td>\n",
       "      <td>51039.60</td>\n",
       "      <td>941.48</td>\n",
       "      <td>43838.39</td>\n",
       "      <td>75.78</td>\n",
       "      <td>6183.95</td>\n",
       "      <td>5986.26</td>\n",
       "      <td>197.69</td>\n",
       "      <td>0.0</td>\n",
       "      <td>conventional</td>\n",
       "      <td>2015</td>\n",
       "      <td>Albany</td>\n",
       "    </tr>\n",
       "    <tr>\n",
       "      <th>...</th>\n",
       "      <td>...</td>\n",
       "      <td>...</td>\n",
       "      <td>...</td>\n",
       "      <td>...</td>\n",
       "      <td>...</td>\n",
       "      <td>...</td>\n",
       "      <td>...</td>\n",
       "      <td>...</td>\n",
       "      <td>...</td>\n",
       "      <td>...</td>\n",
       "      <td>...</td>\n",
       "      <td>...</td>\n",
       "    </tr>\n",
       "    <tr>\n",
       "      <th>18244</th>\n",
       "      <td>1.63</td>\n",
       "      <td>17074.83</td>\n",
       "      <td>2046.96</td>\n",
       "      <td>1529.20</td>\n",
       "      <td>0.00</td>\n",
       "      <td>13498.67</td>\n",
       "      <td>13066.82</td>\n",
       "      <td>431.85</td>\n",
       "      <td>0.0</td>\n",
       "      <td>organic</td>\n",
       "      <td>2018</td>\n",
       "      <td>WestTexNewMexico</td>\n",
       "    </tr>\n",
       "    <tr>\n",
       "      <th>18245</th>\n",
       "      <td>1.71</td>\n",
       "      <td>13888.04</td>\n",
       "      <td>1191.70</td>\n",
       "      <td>3431.50</td>\n",
       "      <td>0.00</td>\n",
       "      <td>9264.84</td>\n",
       "      <td>8940.04</td>\n",
       "      <td>324.80</td>\n",
       "      <td>0.0</td>\n",
       "      <td>organic</td>\n",
       "      <td>2018</td>\n",
       "      <td>WestTexNewMexico</td>\n",
       "    </tr>\n",
       "    <tr>\n",
       "      <th>18246</th>\n",
       "      <td>1.87</td>\n",
       "      <td>13766.76</td>\n",
       "      <td>1191.92</td>\n",
       "      <td>2452.79</td>\n",
       "      <td>727.94</td>\n",
       "      <td>9394.11</td>\n",
       "      <td>9351.80</td>\n",
       "      <td>42.31</td>\n",
       "      <td>0.0</td>\n",
       "      <td>organic</td>\n",
       "      <td>2018</td>\n",
       "      <td>WestTexNewMexico</td>\n",
       "    </tr>\n",
       "    <tr>\n",
       "      <th>18247</th>\n",
       "      <td>1.93</td>\n",
       "      <td>16205.22</td>\n",
       "      <td>1527.63</td>\n",
       "      <td>2981.04</td>\n",
       "      <td>727.01</td>\n",
       "      <td>10969.54</td>\n",
       "      <td>10919.54</td>\n",
       "      <td>50.00</td>\n",
       "      <td>0.0</td>\n",
       "      <td>organic</td>\n",
       "      <td>2018</td>\n",
       "      <td>WestTexNewMexico</td>\n",
       "    </tr>\n",
       "    <tr>\n",
       "      <th>18248</th>\n",
       "      <td>1.62</td>\n",
       "      <td>17489.58</td>\n",
       "      <td>2894.77</td>\n",
       "      <td>2356.13</td>\n",
       "      <td>224.53</td>\n",
       "      <td>12014.15</td>\n",
       "      <td>11988.14</td>\n",
       "      <td>26.01</td>\n",
       "      <td>0.0</td>\n",
       "      <td>organic</td>\n",
       "      <td>2018</td>\n",
       "      <td>WestTexNewMexico</td>\n",
       "    </tr>\n",
       "  </tbody>\n",
       "</table>\n",
       "<p>18249 rows × 12 columns</p>\n",
       "</div>"
      ],
      "text/plain": [
       "       AveragePrice  Total Volume     4046       4225    4770  Total Bags  \\\n",
       "0              1.33      64236.62  1036.74   54454.85   48.16     8696.87   \n",
       "1              1.35      54876.98   674.28   44638.81   58.33     9505.56   \n",
       "2              0.93     118220.22   794.70  109149.67  130.50     8145.35   \n",
       "3              1.08      78992.15  1132.00   71976.41   72.58     5811.16   \n",
       "4              1.28      51039.60   941.48   43838.39   75.78     6183.95   \n",
       "...             ...           ...      ...        ...     ...         ...   \n",
       "18244          1.63      17074.83  2046.96    1529.20    0.00    13498.67   \n",
       "18245          1.71      13888.04  1191.70    3431.50    0.00     9264.84   \n",
       "18246          1.87      13766.76  1191.92    2452.79  727.94     9394.11   \n",
       "18247          1.93      16205.22  1527.63    2981.04  727.01    10969.54   \n",
       "18248          1.62      17489.58  2894.77    2356.13  224.53    12014.15   \n",
       "\n",
       "       Small Bags  Large Bags  XLarge Bags          type  year  \\\n",
       "0         8603.62       93.25          0.0  conventional  2015   \n",
       "1         9408.07       97.49          0.0  conventional  2015   \n",
       "2         8042.21      103.14          0.0  conventional  2015   \n",
       "3         5677.40      133.76          0.0  conventional  2015   \n",
       "4         5986.26      197.69          0.0  conventional  2015   \n",
       "...           ...         ...          ...           ...   ...   \n",
       "18244    13066.82      431.85          0.0       organic  2018   \n",
       "18245     8940.04      324.80          0.0       organic  2018   \n",
       "18246     9351.80       42.31          0.0       organic  2018   \n",
       "18247    10919.54       50.00          0.0       organic  2018   \n",
       "18248    11988.14       26.01          0.0       organic  2018   \n",
       "\n",
       "                 region  \n",
       "0                Albany  \n",
       "1                Albany  \n",
       "2                Albany  \n",
       "3                Albany  \n",
       "4                Albany  \n",
       "...                 ...  \n",
       "18244  WestTexNewMexico  \n",
       "18245  WestTexNewMexico  \n",
       "18246  WestTexNewMexico  \n",
       "18247  WestTexNewMexico  \n",
       "18248  WestTexNewMexico  \n",
       "\n",
       "[18249 rows x 12 columns]"
      ]
     },
     "execution_count": 621,
     "metadata": {},
     "output_type": "execute_result"
    }
   ],
   "source": [
    "df"
   ]
  },
  {
   "cell_type": "code",
   "execution_count": 622,
   "metadata": {},
   "outputs": [
    {
     "data": {
      "text/plain": [
       "AveragePrice    0\n",
       "Total Volume    0\n",
       "4046            0\n",
       "4225            0\n",
       "4770            0\n",
       "Total Bags      0\n",
       "Small Bags      0\n",
       "Large Bags      0\n",
       "XLarge Bags     0\n",
       "type            0\n",
       "year            0\n",
       "region          0\n",
       "dtype: int64"
      ]
     },
     "execution_count": 622,
     "metadata": {},
     "output_type": "execute_result"
    }
   ],
   "source": [
    "df.isnull().sum()"
   ]
  },
  {
   "cell_type": "code",
   "execution_count": 623,
   "metadata": {},
   "outputs": [
    {
     "name": "stdout",
     "output_type": "stream",
     "text": [
      "<class 'pandas.core.frame.DataFrame'>\n",
      "RangeIndex: 18249 entries, 0 to 18248\n",
      "Data columns (total 12 columns):\n",
      " #   Column        Non-Null Count  Dtype  \n",
      "---  ------        --------------  -----  \n",
      " 0   AveragePrice  18249 non-null  float64\n",
      " 1   Total Volume  18249 non-null  float64\n",
      " 2   4046          18249 non-null  float64\n",
      " 3   4225          18249 non-null  float64\n",
      " 4   4770          18249 non-null  float64\n",
      " 5   Total Bags    18249 non-null  float64\n",
      " 6   Small Bags    18249 non-null  float64\n",
      " 7   Large Bags    18249 non-null  float64\n",
      " 8   XLarge Bags   18249 non-null  float64\n",
      " 9   type          18249 non-null  object \n",
      " 10  year          18249 non-null  int64  \n",
      " 11  region        18249 non-null  object \n",
      "dtypes: float64(9), int64(1), object(2)\n",
      "memory usage: 1.7+ MB\n"
     ]
    }
   ],
   "source": [
    "df.info()"
   ]
  },
  {
   "cell_type": "markdown",
   "metadata": {},
   "source": [
    "No missing value in the given dataset."
   ]
  },
  {
   "cell_type": "code",
   "execution_count": 624,
   "metadata": {},
   "outputs": [
    {
     "data": {
      "text/plain": [
       "<AxesSubplot:xlabel='year', ylabel='Total Volume'>"
      ]
     },
     "execution_count": 624,
     "metadata": {},
     "output_type": "execute_result"
    },
    {
     "data": {
      "image/png": "[encoded data removed]",
      "text/plain": [
       "<Figure size 432x288 with 1 Axes>"
      ]
     },
     "metadata": {
      "needs_background": "light"
     },
     "output_type": "display_data"
    }
   ],
   "source": [
    "sns.barplot(x=\"year\", y=\"Total Volume\", data=df)"
   ]
  },
  {
   "cell_type": "markdown",
   "metadata": {},
   "source": [
    "The total sales volume was highest in 2018. In 2017 and 2018 it remained almost identical. Year 2015 was the least in all years."
   ]
  },
  {
   "cell_type": "code",
   "execution_count": 625,
   "metadata": {},
   "outputs": [
    {
     "data": {
      "text/html": [
       "<div>\n",
       "<style scoped>\n",
       "    .dataframe tbody tr th:only-of-type {\n",
       "        vertical-align: middle;\n",
       "    }\n",
       "\n",
       "    .dataframe tbody tr th {\n",
       "        vertical-align: top;\n",
       "    }\n",
       "\n",
       "    .dataframe thead th {\n",
       "        text-align: right;\n",
       "    }\n",
       "</style>\n",
       "<table border=\"1\" class=\"dataframe\">\n",
       "  <thead>\n",
       "    <tr style=\"text-align: right;\">\n",
       "      <th></th>\n",
       "      <th>AveragePrice</th>\n",
       "      <th>Total Volume</th>\n",
       "      <th>4046</th>\n",
       "      <th>4225</th>\n",
       "      <th>4770</th>\n",
       "      <th>Total Bags</th>\n",
       "      <th>Small Bags</th>\n",
       "      <th>Large Bags</th>\n",
       "      <th>XLarge Bags</th>\n",
       "      <th>year</th>\n",
       "    </tr>\n",
       "  </thead>\n",
       "  <tbody>\n",
       "    <tr>\n",
       "      <th>count</th>\n",
       "      <td>18249.000000</td>\n",
       "      <td>1.824900e+04</td>\n",
       "      <td>1.824900e+04</td>\n",
       "      <td>1.824900e+04</td>\n",
       "      <td>1.824900e+04</td>\n",
       "      <td>1.824900e+04</td>\n",
       "      <td>1.824900e+04</td>\n",
       "      <td>1.824900e+04</td>\n",
       "      <td>18249.000000</td>\n",
       "      <td>18249.000000</td>\n",
       "    </tr>\n",
       "    <tr>\n",
       "      <th>mean</th>\n",
       "      <td>1.405978</td>\n",
       "      <td>8.506440e+05</td>\n",
       "      <td>2.930084e+05</td>\n",
       "      <td>2.951546e+05</td>\n",
       "      <td>2.283974e+04</td>\n",
       "      <td>2.396392e+05</td>\n",
       "      <td>1.821947e+05</td>\n",
       "      <td>5.433809e+04</td>\n",
       "      <td>3106.426507</td>\n",
       "      <td>2016.147899</td>\n",
       "    </tr>\n",
       "    <tr>\n",
       "      <th>std</th>\n",
       "      <td>0.402677</td>\n",
       "      <td>3.453545e+06</td>\n",
       "      <td>1.264989e+06</td>\n",
       "      <td>1.204120e+06</td>\n",
       "      <td>1.074641e+05</td>\n",
       "      <td>9.862424e+05</td>\n",
       "      <td>7.461785e+05</td>\n",
       "      <td>2.439660e+05</td>\n",
       "      <td>17692.894652</td>\n",
       "      <td>0.939938</td>\n",
       "    </tr>\n",
       "    <tr>\n",
       "      <th>min</th>\n",
       "      <td>0.440000</td>\n",
       "      <td>8.456000e+01</td>\n",
       "      <td>0.000000e+00</td>\n",
       "      <td>0.000000e+00</td>\n",
       "      <td>0.000000e+00</td>\n",
       "      <td>0.000000e+00</td>\n",
       "      <td>0.000000e+00</td>\n",
       "      <td>0.000000e+00</td>\n",
       "      <td>0.000000</td>\n",
       "      <td>2015.000000</td>\n",
       "    </tr>\n",
       "    <tr>\n",
       "      <th>25%</th>\n",
       "      <td>1.100000</td>\n",
       "      <td>1.083858e+04</td>\n",
       "      <td>8.540700e+02</td>\n",
       "      <td>3.008780e+03</td>\n",
       "      <td>0.000000e+00</td>\n",
       "      <td>5.088640e+03</td>\n",
       "      <td>2.849420e+03</td>\n",
       "      <td>1.274700e+02</td>\n",
       "      <td>0.000000</td>\n",
       "      <td>2015.000000</td>\n",
       "    </tr>\n",
       "    <tr>\n",
       "      <th>50%</th>\n",
       "      <td>1.370000</td>\n",
       "      <td>1.073768e+05</td>\n",
       "      <td>8.645300e+03</td>\n",
       "      <td>2.906102e+04</td>\n",
       "      <td>1.849900e+02</td>\n",
       "      <td>3.974383e+04</td>\n",
       "      <td>2.636282e+04</td>\n",
       "      <td>2.647710e+03</td>\n",
       "      <td>0.000000</td>\n",
       "      <td>2016.000000</td>\n",
       "    </tr>\n",
       "    <tr>\n",
       "      <th>75%</th>\n",
       "      <td>1.660000</td>\n",
       "      <td>4.329623e+05</td>\n",
       "      <td>1.110202e+05</td>\n",
       "      <td>1.502069e+05</td>\n",
       "      <td>6.243420e+03</td>\n",
       "      <td>1.107834e+05</td>\n",
       "      <td>8.333767e+04</td>\n",
       "      <td>2.202925e+04</td>\n",
       "      <td>132.500000</td>\n",
       "      <td>2017.000000</td>\n",
       "    </tr>\n",
       "    <tr>\n",
       "      <th>max</th>\n",
       "      <td>3.250000</td>\n",
       "      <td>6.250565e+07</td>\n",
       "      <td>2.274362e+07</td>\n",
       "      <td>2.047057e+07</td>\n",
       "      <td>2.546439e+06</td>\n",
       "      <td>1.937313e+07</td>\n",
       "      <td>1.338459e+07</td>\n",
       "      <td>5.719097e+06</td>\n",
       "      <td>551693.650000</td>\n",
       "      <td>2018.000000</td>\n",
       "    </tr>\n",
       "  </tbody>\n",
       "</table>\n",
       "</div>"
      ],
      "text/plain": [
       "       AveragePrice  Total Volume          4046          4225          4770  \\\n",
       "count  18249.000000  1.824900e+04  1.824900e+04  1.824900e+04  1.824900e+04   \n",
       "mean       1.405978  8.506440e+05  2.930084e+05  2.951546e+05  2.283974e+04   \n",
       "std        0.402677  3.453545e+06  1.264989e+06  1.204120e+06  1.074641e+05   \n",
       "min        0.440000  8.456000e+01  0.000000e+00  0.000000e+00  0.000000e+00   \n",
       "25%        1.100000  1.083858e+04  8.540700e+02  3.008780e+03  0.000000e+00   \n",
       "50%        1.370000  1.073768e+05  8.645300e+03  2.906102e+04  1.849900e+02   \n",
       "75%        1.660000  4.329623e+05  1.110202e+05  1.502069e+05  6.243420e+03   \n",
       "max        3.250000  6.250565e+07  2.274362e+07  2.047057e+07  2.546439e+06   \n",
       "\n",
       "         Total Bags    Small Bags    Large Bags    XLarge Bags          year  \n",
       "count  1.824900e+04  1.824900e+04  1.824900e+04   18249.000000  18249.000000  \n",
       "mean   2.396392e+05  1.821947e+05  5.433809e+04    3106.426507   2016.147899  \n",
       "std    9.862424e+05  7.461785e+05  2.439660e+05   17692.894652      0.939938  \n",
       "min    0.000000e+00  0.000000e+00  0.000000e+00       0.000000   2015.000000  \n",
       "25%    5.088640e+03  2.849420e+03  1.274700e+02       0.000000   2015.000000  \n",
       "50%    3.974383e+04  2.636282e+04  2.647710e+03       0.000000   2016.000000  \n",
       "75%    1.107834e+05  8.333767e+04  2.202925e+04     132.500000   2017.000000  \n",
       "max    1.937313e+07  1.338459e+07  5.719097e+06  551693.650000   2018.000000  "
      ]
     },
     "execution_count": 625,
     "metadata": {},
     "output_type": "execute_result"
    }
   ],
   "source": [
    "df.describe()"
   ]
  },
  {
   "cell_type": "markdown",
   "metadata": {},
   "source": [
    "1. All the variable (except AveragePrice 4225) have a significant difference in the values of mean and median meaning they are either left skewed or right skewed.\n",
    "2. Here also we can confirm that there are no missing value in the dataset."
   ]
  },
  {
   "cell_type": "code",
   "execution_count": 626,
   "metadata": {
    "scrolled": true
   },
   "outputs": [
    {
     "data": {
      "text/html": [
       "\n",
       "        <iframe\n",
       "            width=\"100%\"\n",
       "            height=\"475\"\n",
       "            src=\"http://macbook-pro:40000/dtale/iframe/12\"\n",
       "            frameborder=\"0\"\n",
       "            allowfullscreen\n",
       "        ></iframe>\n",
       "        "
      ],
      "text/plain": [
       "<IPython.lib.display.IFrame at 0x7f84e3eb0d60>"
      ]
     },
     "metadata": {},
     "output_type": "display_data"
    },
    {
     "data": {
      "text/plain": []
     },
     "execution_count": 626,
     "metadata": {},
     "output_type": "execute_result"
    }
   ],
   "source": [
    "import dtale\n",
    "dtale.show(df)"
   ]
  },
  {
   "cell_type": "code",
   "execution_count": 627,
   "metadata": {
    "scrolled": false
   },
   "outputs": [
    {
     "name": "stdout",
     "output_type": "stream",
     "text": [
      "Large dataset detected, using 10000 random samples for the plots. Summary statistics are still based on the entire dataset.\n"
     ]
    },
    {
     "data": {
      "text/plain": [
       "<AxesSubplot:xlabel='year', ylabel='Density'>"
      ]
     },
     "execution_count": 627,
     "metadata": {},
     "output_type": "execute_result"
    },
    {
     "data": {
      "image/png": "[encoded data removed]",
      "text/plain": [
       "<Figure size 900x180 with 1 Axes>"
      ]
     },
     "metadata": {
      "needs_background": "light"
     },
     "output_type": "display_data"
    },
    {
     "data": {
      "image/png": "[encoded data removed]",
      "text/plain": [
       "<Figure size 900x180 with 1 Axes>"
      ]
     },
     "metadata": {
      "needs_background": "light"
     },
     "output_type": "display_data"
    },
    {
     "data": {
      "image/png": "[encoded data removed]",
      "text/plain": [
       "<Figure size 900x180 with 1 Axes>"
      ]
     },
     "metadata": {
      "needs_background": "light"
     },
     "output_type": "display_data"
    },
    {
     "data": {
      "image/png": "[encoded data removed]",
      "text/plain": [
       "<Figure size 900x180 with 1 Axes>"
      ]
     },
     "metadata": {
      "needs_background": "light"
     },
     "output_type": "display_data"
    },
    {
     "data": {
      "image/png": "[encoded data removed]",
      "text/plain": [
       "<Figure size 900x180 with 1 Axes>"
      ]
     },
     "metadata": {
      "needs_background": "light"
     },
     "output_type": "display_data"
    },
    {
     "data": {
      "image/png": "[encoded data removed]",
      "text/plain": [
       "<Figure size 900x180 with 1 Axes>"
      ]
     },
     "metadata": {
      "needs_background": "light"
     },
     "output_type": "display_data"
    },
    {
     "data": {
      "image/png": "[encoded data removed]",
      "text/plain": [
       "<Figure size 900x180 with 1 Axes>"
      ]
     },
     "metadata": {
      "needs_background": "light"
     },
     "output_type": "display_data"
    },
    {
     "data": {
      "image/png": "[encoded data removed]",
      "text/plain": [
       "<Figure size 900x180 with 1 Axes>"
      ]
     },
     "metadata": {
      "needs_background": "light"
     },
     "output_type": "display_data"
    },
    {
     "data": {
      "image/png": "[encoded data removed]",
      "text/plain": [
       "<Figure size 900x180 with 1 Axes>"
      ]
     },
     "metadata": {
      "needs_background": "light"
     },
     "output_type": "display_data"
    },
    {
     "data": {
      "image/png": "[encoded data removed]",
      "text/plain": [
       "<Figure size 900x180 with 1 Axes>"
      ]
     },
     "metadata": {
      "needs_background": "light"
     },
     "output_type": "display_data"
    }
   ],
   "source": [
    "import klib\n",
    "%matplotlib inline\n",
    "klib.dist_plot(data=df)"
   ]
  },
  {
   "cell_type": "code",
   "execution_count": 631,
   "metadata": {},
   "outputs": [
    {
     "data": {
      "text/plain": [
       "<AxesSubplot:xlabel='AveragePrice', ylabel='region'>"
      ]
     },
     "execution_count": 631,
     "metadata": {},
     "output_type": "execute_result"
    },
    {
     "data": {
      "image/png": "[encoded data removed]",
      "text/plain": [
       "<Figure size 720x1440 with 1 Axes>"
      ]
     },
     "metadata": {
      "needs_background": "light"
     },
     "output_type": "display_data"
    }
   ],
   "source": [
    "plt.figure(figsize=[10,20])\n",
    "sns.scatterplot(x='AveragePrice' , y=\"region\",data=df)"
   ]
  },
  {
   "cell_type": "markdown",
   "metadata": {},
   "source": [
    "From the above distribution plots we can see that right skewed. Hence Let us find out the outliers and then if we can afford to remove them, we will get rid of them."
   ]
  },
  {
   "cell_type": "code",
   "execution_count": 566,
   "metadata": {
    "scrolled": true
   },
   "outputs": [
    {
     "data": {
      "text/plain": [
       "<AxesSubplot:>"
      ]
     },
     "execution_count": 566,
     "metadata": {},
     "output_type": "execute_result"
    },
    {
     "data": {
      "image/png": "[encoded data removed]",
      "text/plain": [
       "<Figure size 720x432 with 2 Axes>"
      ]
     },
     "metadata": {
      "needs_background": "light"
     },
     "output_type": "display_data"
    }
   ],
   "source": [
    "plt.figure(figsize=[10,6])\n",
    "sns.heatmap(df.corr(), annot=True, cmap='Blues')"
   ]
  },
  {
   "cell_type": "code",
   "execution_count": 567,
   "metadata": {},
   "outputs": [
    {
     "data": {
      "text/plain": [
       "AveragePrice     0.580303\n",
       "Total Volume     9.007687\n",
       "4046             8.648220\n",
       "4225             8.942466\n",
       "4770            10.159396\n",
       "Total Bags       9.756072\n",
       "Small Bags       9.540660\n",
       "Large Bags       9.796455\n",
       "XLarge Bags     13.139751\n",
       "year             0.215339\n",
       "dtype: float64"
      ]
     },
     "execution_count": 567,
     "metadata": {},
     "output_type": "execute_result"
    }
   ],
   "source": [
    "df.skew()"
   ]
  },
  {
   "cell_type": "markdown",
   "metadata": {},
   "source": [
    "Total volume has extremely high correlation with most of the columns and total bags has high correlation with Small bags. These both columns also has the problem of skewness, hence to avoid problem of multicolinearity and skewness, i will drop that columns"
   ]
  },
  {
   "cell_type": "code",
   "execution_count": 568,
   "metadata": {},
   "outputs": [
    {
     "data": {
      "text/html": [
       "<div>\n",
       "<style scoped>\n",
       "    .dataframe tbody tr th:only-of-type {\n",
       "        vertical-align: middle;\n",
       "    }\n",
       "\n",
       "    .dataframe tbody tr th {\n",
       "        vertical-align: top;\n",
       "    }\n",
       "\n",
       "    .dataframe thead th {\n",
       "        text-align: right;\n",
       "    }\n",
       "</style>\n",
       "<table border=\"1\" class=\"dataframe\">\n",
       "  <thead>\n",
       "    <tr style=\"text-align: right;\">\n",
       "      <th></th>\n",
       "      <th>AveragePrice</th>\n",
       "      <th>4046</th>\n",
       "      <th>4225</th>\n",
       "      <th>4770</th>\n",
       "      <th>Total Bags</th>\n",
       "      <th>Large Bags</th>\n",
       "      <th>XLarge Bags</th>\n",
       "      <th>type</th>\n",
       "      <th>year</th>\n",
       "      <th>region</th>\n",
       "    </tr>\n",
       "  </thead>\n",
       "  <tbody>\n",
       "    <tr>\n",
       "      <th>0</th>\n",
       "      <td>1.33</td>\n",
       "      <td>1036.74</td>\n",
       "      <td>54454.85</td>\n",
       "      <td>48.16</td>\n",
       "      <td>8696.87</td>\n",
       "      <td>93.25</td>\n",
       "      <td>0.0</td>\n",
       "      <td>conventional</td>\n",
       "      <td>2015</td>\n",
       "      <td>Albany</td>\n",
       "    </tr>\n",
       "    <tr>\n",
       "      <th>1</th>\n",
       "      <td>1.35</td>\n",
       "      <td>674.28</td>\n",
       "      <td>44638.81</td>\n",
       "      <td>58.33</td>\n",
       "      <td>9505.56</td>\n",
       "      <td>97.49</td>\n",
       "      <td>0.0</td>\n",
       "      <td>conventional</td>\n",
       "      <td>2015</td>\n",
       "      <td>Albany</td>\n",
       "    </tr>\n",
       "    <tr>\n",
       "      <th>2</th>\n",
       "      <td>0.93</td>\n",
       "      <td>794.70</td>\n",
       "      <td>109149.67</td>\n",
       "      <td>130.50</td>\n",
       "      <td>8145.35</td>\n",
       "      <td>103.14</td>\n",
       "      <td>0.0</td>\n",
       "      <td>conventional</td>\n",
       "      <td>2015</td>\n",
       "      <td>Albany</td>\n",
       "    </tr>\n",
       "    <tr>\n",
       "      <th>3</th>\n",
       "      <td>1.08</td>\n",
       "      <td>1132.00</td>\n",
       "      <td>71976.41</td>\n",
       "      <td>72.58</td>\n",
       "      <td>5811.16</td>\n",
       "      <td>133.76</td>\n",
       "      <td>0.0</td>\n",
       "      <td>conventional</td>\n",
       "      <td>2015</td>\n",
       "      <td>Albany</td>\n",
       "    </tr>\n",
       "    <tr>\n",
       "      <th>4</th>\n",
       "      <td>1.28</td>\n",
       "      <td>941.48</td>\n",
       "      <td>43838.39</td>\n",
       "      <td>75.78</td>\n",
       "      <td>6183.95</td>\n",
       "      <td>197.69</td>\n",
       "      <td>0.0</td>\n",
       "      <td>conventional</td>\n",
       "      <td>2015</td>\n",
       "      <td>Albany</td>\n",
       "    </tr>\n",
       "    <tr>\n",
       "      <th>...</th>\n",
       "      <td>...</td>\n",
       "      <td>...</td>\n",
       "      <td>...</td>\n",
       "      <td>...</td>\n",
       "      <td>...</td>\n",
       "      <td>...</td>\n",
       "      <td>...</td>\n",
       "      <td>...</td>\n",
       "      <td>...</td>\n",
       "      <td>...</td>\n",
       "    </tr>\n",
       "    <tr>\n",
       "      <th>18244</th>\n",
       "      <td>1.63</td>\n",
       "      <td>2046.96</td>\n",
       "      <td>1529.20</td>\n",
       "      <td>0.00</td>\n",
       "      <td>13498.67</td>\n",
       "      <td>431.85</td>\n",
       "      <td>0.0</td>\n",
       "      <td>organic</td>\n",
       "      <td>2018</td>\n",
       "      <td>WestTexNewMexico</td>\n",
       "    </tr>\n",
       "    <tr>\n",
       "      <th>18245</th>\n",
       "      <td>1.71</td>\n",
       "      <td>1191.70</td>\n",
       "      <td>3431.50</td>\n",
       "      <td>0.00</td>\n",
       "      <td>9264.84</td>\n",
       "      <td>324.80</td>\n",
       "      <td>0.0</td>\n",
       "      <td>organic</td>\n",
       "      <td>2018</td>\n",
       "      <td>WestTexNewMexico</td>\n",
       "    </tr>\n",
       "    <tr>\n",
       "      <th>18246</th>\n",
       "      <td>1.87</td>\n",
       "      <td>1191.92</td>\n",
       "      <td>2452.79</td>\n",
       "      <td>727.94</td>\n",
       "      <td>9394.11</td>\n",
       "      <td>42.31</td>\n",
       "      <td>0.0</td>\n",
       "      <td>organic</td>\n",
       "      <td>2018</td>\n",
       "      <td>WestTexNewMexico</td>\n",
       "    </tr>\n",
       "    <tr>\n",
       "      <th>18247</th>\n",
       "      <td>1.93</td>\n",
       "      <td>1527.63</td>\n",
       "      <td>2981.04</td>\n",
       "      <td>727.01</td>\n",
       "      <td>10969.54</td>\n",
       "      <td>50.00</td>\n",
       "      <td>0.0</td>\n",
       "      <td>organic</td>\n",
       "      <td>2018</td>\n",
       "      <td>WestTexNewMexico</td>\n",
       "    </tr>\n",
       "    <tr>\n",
       "      <th>18248</th>\n",
       "      <td>1.62</td>\n",
       "      <td>2894.77</td>\n",
       "      <td>2356.13</td>\n",
       "      <td>224.53</td>\n",
       "      <td>12014.15</td>\n",
       "      <td>26.01</td>\n",
       "      <td>0.0</td>\n",
       "      <td>organic</td>\n",
       "      <td>2018</td>\n",
       "      <td>WestTexNewMexico</td>\n",
       "    </tr>\n",
       "  </tbody>\n",
       "</table>\n",
       "<p>18249 rows × 10 columns</p>\n",
       "</div>"
      ],
      "text/plain": [
       "       AveragePrice     4046       4225    4770  Total Bags  Large Bags  \\\n",
       "0              1.33  1036.74   54454.85   48.16     8696.87       93.25   \n",
       "1              1.35   674.28   44638.81   58.33     9505.56       97.49   \n",
       "2              0.93   794.70  109149.67  130.50     8145.35      103.14   \n",
       "3              1.08  1132.00   71976.41   72.58     5811.16      133.76   \n",
       "4              1.28   941.48   43838.39   75.78     6183.95      197.69   \n",
       "...             ...      ...        ...     ...         ...         ...   \n",
       "18244          1.63  2046.96    1529.20    0.00    13498.67      431.85   \n",
       "18245          1.71  1191.70    3431.50    0.00     9264.84      324.80   \n",
       "18246          1.87  1191.92    2452.79  727.94     9394.11       42.31   \n",
       "18247          1.93  1527.63    2981.04  727.01    10969.54       50.00   \n",
       "18248          1.62  2894.77    2356.13  224.53    12014.15       26.01   \n",
       "\n",
       "       XLarge Bags          type  year            region  \n",
       "0              0.0  conventional  2015            Albany  \n",
       "1              0.0  conventional  2015            Albany  \n",
       "2              0.0  conventional  2015            Albany  \n",
       "3              0.0  conventional  2015            Albany  \n",
       "4              0.0  conventional  2015            Albany  \n",
       "...            ...           ...   ...               ...  \n",
       "18244          0.0       organic  2018  WestTexNewMexico  \n",
       "18245          0.0       organic  2018  WestTexNewMexico  \n",
       "18246          0.0       organic  2018  WestTexNewMexico  \n",
       "18247          0.0       organic  2018  WestTexNewMexico  \n",
       "18248          0.0       organic  2018  WestTexNewMexico  \n",
       "\n",
       "[18249 rows x 10 columns]"
      ]
     },
     "execution_count": 568,
     "metadata": {},
     "output_type": "execute_result"
    }
   ],
   "source": [
    "df.drop(['Total Volume'], axis=1, inplace=True)\n",
    "df.drop(['Small Bags'], axis=1, inplace=True)\n",
    "df"
   ]
  },
  {
   "cell_type": "code",
   "execution_count": 569,
   "metadata": {},
   "outputs": [
    {
     "data": {
      "text/plain": [
       "<AxesSubplot:>"
      ]
     },
     "execution_count": 569,
     "metadata": {},
     "output_type": "execute_result"
    },
    {
     "data": {
      "image/png": "[encoded data removed]",
      "text/plain": [
       "<Figure size 720x432 with 2 Axes>"
      ]
     },
     "metadata": {
      "needs_background": "light"
     },
     "output_type": "display_data"
    }
   ],
   "source": [
    "plt.figure(figsize=[10,6])\n",
    "sns.heatmap(df_new.corr(), annot=True, cmap='Blues')"
   ]
  },
  {
   "cell_type": "code",
   "execution_count": 570,
   "metadata": {},
   "outputs": [
    {
     "data": {
      "text/html": [
       "<div>\n",
       "<style scoped>\n",
       "    .dataframe tbody tr th:only-of-type {\n",
       "        vertical-align: middle;\n",
       "    }\n",
       "\n",
       "    .dataframe tbody tr th {\n",
       "        vertical-align: top;\n",
       "    }\n",
       "\n",
       "    .dataframe thead th {\n",
       "        text-align: right;\n",
       "    }\n",
       "</style>\n",
       "<table border=\"1\" class=\"dataframe\">\n",
       "  <thead>\n",
       "    <tr style=\"text-align: right;\">\n",
       "      <th></th>\n",
       "      <th>AveragePrice</th>\n",
       "      <th>4046</th>\n",
       "      <th>4225</th>\n",
       "      <th>4770</th>\n",
       "      <th>Total Bags</th>\n",
       "      <th>Large Bags</th>\n",
       "      <th>XLarge Bags</th>\n",
       "      <th>type</th>\n",
       "      <th>year</th>\n",
       "      <th>region</th>\n",
       "    </tr>\n",
       "  </thead>\n",
       "  <tbody>\n",
       "    <tr>\n",
       "      <th>0</th>\n",
       "      <td>1.33</td>\n",
       "      <td>1036.74</td>\n",
       "      <td>54454.85</td>\n",
       "      <td>48.16</td>\n",
       "      <td>8696.87</td>\n",
       "      <td>93.25</td>\n",
       "      <td>0.0</td>\n",
       "      <td>0</td>\n",
       "      <td>2015</td>\n",
       "      <td>0</td>\n",
       "    </tr>\n",
       "    <tr>\n",
       "      <th>1</th>\n",
       "      <td>1.35</td>\n",
       "      <td>674.28</td>\n",
       "      <td>44638.81</td>\n",
       "      <td>58.33</td>\n",
       "      <td>9505.56</td>\n",
       "      <td>97.49</td>\n",
       "      <td>0.0</td>\n",
       "      <td>0</td>\n",
       "      <td>2015</td>\n",
       "      <td>0</td>\n",
       "    </tr>\n",
       "    <tr>\n",
       "      <th>2</th>\n",
       "      <td>0.93</td>\n",
       "      <td>794.70</td>\n",
       "      <td>109149.67</td>\n",
       "      <td>130.50</td>\n",
       "      <td>8145.35</td>\n",
       "      <td>103.14</td>\n",
       "      <td>0.0</td>\n",
       "      <td>0</td>\n",
       "      <td>2015</td>\n",
       "      <td>0</td>\n",
       "    </tr>\n",
       "    <tr>\n",
       "      <th>3</th>\n",
       "      <td>1.08</td>\n",
       "      <td>1132.00</td>\n",
       "      <td>71976.41</td>\n",
       "      <td>72.58</td>\n",
       "      <td>5811.16</td>\n",
       "      <td>133.76</td>\n",
       "      <td>0.0</td>\n",
       "      <td>0</td>\n",
       "      <td>2015</td>\n",
       "      <td>0</td>\n",
       "    </tr>\n",
       "    <tr>\n",
       "      <th>4</th>\n",
       "      <td>1.28</td>\n",
       "      <td>941.48</td>\n",
       "      <td>43838.39</td>\n",
       "      <td>75.78</td>\n",
       "      <td>6183.95</td>\n",
       "      <td>197.69</td>\n",
       "      <td>0.0</td>\n",
       "      <td>0</td>\n",
       "      <td>2015</td>\n",
       "      <td>0</td>\n",
       "    </tr>\n",
       "    <tr>\n",
       "      <th>...</th>\n",
       "      <td>...</td>\n",
       "      <td>...</td>\n",
       "      <td>...</td>\n",
       "      <td>...</td>\n",
       "      <td>...</td>\n",
       "      <td>...</td>\n",
       "      <td>...</td>\n",
       "      <td>...</td>\n",
       "      <td>...</td>\n",
       "      <td>...</td>\n",
       "    </tr>\n",
       "    <tr>\n",
       "      <th>18244</th>\n",
       "      <td>1.63</td>\n",
       "      <td>2046.96</td>\n",
       "      <td>1529.20</td>\n",
       "      <td>0.00</td>\n",
       "      <td>13498.67</td>\n",
       "      <td>431.85</td>\n",
       "      <td>0.0</td>\n",
       "      <td>1</td>\n",
       "      <td>2018</td>\n",
       "      <td>53</td>\n",
       "    </tr>\n",
       "    <tr>\n",
       "      <th>18245</th>\n",
       "      <td>1.71</td>\n",
       "      <td>1191.70</td>\n",
       "      <td>3431.50</td>\n",
       "      <td>0.00</td>\n",
       "      <td>9264.84</td>\n",
       "      <td>324.80</td>\n",
       "      <td>0.0</td>\n",
       "      <td>1</td>\n",
       "      <td>2018</td>\n",
       "      <td>53</td>\n",
       "    </tr>\n",
       "    <tr>\n",
       "      <th>18246</th>\n",
       "      <td>1.87</td>\n",
       "      <td>1191.92</td>\n",
       "      <td>2452.79</td>\n",
       "      <td>727.94</td>\n",
       "      <td>9394.11</td>\n",
       "      <td>42.31</td>\n",
       "      <td>0.0</td>\n",
       "      <td>1</td>\n",
       "      <td>2018</td>\n",
       "      <td>53</td>\n",
       "    </tr>\n",
       "    <tr>\n",
       "      <th>18247</th>\n",
       "      <td>1.93</td>\n",
       "      <td>1527.63</td>\n",
       "      <td>2981.04</td>\n",
       "      <td>727.01</td>\n",
       "      <td>10969.54</td>\n",
       "      <td>50.00</td>\n",
       "      <td>0.0</td>\n",
       "      <td>1</td>\n",
       "      <td>2018</td>\n",
       "      <td>53</td>\n",
       "    </tr>\n",
       "    <tr>\n",
       "      <th>18248</th>\n",
       "      <td>1.62</td>\n",
       "      <td>2894.77</td>\n",
       "      <td>2356.13</td>\n",
       "      <td>224.53</td>\n",
       "      <td>12014.15</td>\n",
       "      <td>26.01</td>\n",
       "      <td>0.0</td>\n",
       "      <td>1</td>\n",
       "      <td>2018</td>\n",
       "      <td>53</td>\n",
       "    </tr>\n",
       "  </tbody>\n",
       "</table>\n",
       "<p>18249 rows × 10 columns</p>\n",
       "</div>"
      ],
      "text/plain": [
       "       AveragePrice     4046       4225    4770  Total Bags  Large Bags  \\\n",
       "0              1.33  1036.74   54454.85   48.16     8696.87       93.25   \n",
       "1              1.35   674.28   44638.81   58.33     9505.56       97.49   \n",
       "2              0.93   794.70  109149.67  130.50     8145.35      103.14   \n",
       "3              1.08  1132.00   71976.41   72.58     5811.16      133.76   \n",
       "4              1.28   941.48   43838.39   75.78     6183.95      197.69   \n",
       "...             ...      ...        ...     ...         ...         ...   \n",
       "18244          1.63  2046.96    1529.20    0.00    13498.67      431.85   \n",
       "18245          1.71  1191.70    3431.50    0.00     9264.84      324.80   \n",
       "18246          1.87  1191.92    2452.79  727.94     9394.11       42.31   \n",
       "18247          1.93  1527.63    2981.04  727.01    10969.54       50.00   \n",
       "18248          1.62  2894.77    2356.13  224.53    12014.15       26.01   \n",
       "\n",
       "       XLarge Bags  type  year  region  \n",
       "0              0.0     0  2015       0  \n",
       "1              0.0     0  2015       0  \n",
       "2              0.0     0  2015       0  \n",
       "3              0.0     0  2015       0  \n",
       "4              0.0     0  2015       0  \n",
       "...            ...   ...   ...     ...  \n",
       "18244          0.0     1  2018      53  \n",
       "18245          0.0     1  2018      53  \n",
       "18246          0.0     1  2018      53  \n",
       "18247          0.0     1  2018      53  \n",
       "18248          0.0     1  2018      53  \n",
       "\n",
       "[18249 rows x 10 columns]"
      ]
     },
     "execution_count": 570,
     "metadata": {},
     "output_type": "execute_result"
    }
   ],
   "source": [
    "from sklearn.preprocessing import LabelEncoder\n",
    "\n",
    "LE = LabelEncoder()\n",
    "df['type'] = LE.fit_transform(df['type'])\n",
    "df['region'] = LE.fit_transform(df['region'])\n",
    "df"
   ]
  },
  {
   "cell_type": "code",
   "execution_count": 571,
   "metadata": {},
   "outputs": [
    {
     "name": "stdout",
     "output_type": "stream",
     "text": [
      "(array([  346,   359,   780, ..., 17304, 17402, 17428]), array([1, 1, 6, ..., 0, 0, 0]))\n"
     ]
    },
    {
     "data": {
      "text/html": [
       "<div>\n",
       "<style scoped>\n",
       "    .dataframe tbody tr th:only-of-type {\n",
       "        vertical-align: middle;\n",
       "    }\n",
       "\n",
       "    .dataframe tbody tr th {\n",
       "        vertical-align: top;\n",
       "    }\n",
       "\n",
       "    .dataframe thead th {\n",
       "        text-align: right;\n",
       "    }\n",
       "</style>\n",
       "<table border=\"1\" class=\"dataframe\">\n",
       "  <thead>\n",
       "    <tr style=\"text-align: right;\">\n",
       "      <th></th>\n",
       "      <th>AveragePrice</th>\n",
       "      <th>4046</th>\n",
       "      <th>4225</th>\n",
       "      <th>4770</th>\n",
       "      <th>Total Bags</th>\n",
       "      <th>Large Bags</th>\n",
       "      <th>XLarge Bags</th>\n",
       "      <th>type</th>\n",
       "      <th>year</th>\n",
       "      <th>region</th>\n",
       "    </tr>\n",
       "  </thead>\n",
       "  <tbody>\n",
       "    <tr>\n",
       "      <th>0</th>\n",
       "      <td>1.33</td>\n",
       "      <td>1036.74</td>\n",
       "      <td>54454.85</td>\n",
       "      <td>48.16</td>\n",
       "      <td>8696.87</td>\n",
       "      <td>93.25</td>\n",
       "      <td>0.0</td>\n",
       "      <td>0</td>\n",
       "      <td>2015</td>\n",
       "      <td>0</td>\n",
       "    </tr>\n",
       "    <tr>\n",
       "      <th>1</th>\n",
       "      <td>1.35</td>\n",
       "      <td>674.28</td>\n",
       "      <td>44638.81</td>\n",
       "      <td>58.33</td>\n",
       "      <td>9505.56</td>\n",
       "      <td>97.49</td>\n",
       "      <td>0.0</td>\n",
       "      <td>0</td>\n",
       "      <td>2015</td>\n",
       "      <td>0</td>\n",
       "    </tr>\n",
       "    <tr>\n",
       "      <th>2</th>\n",
       "      <td>0.93</td>\n",
       "      <td>794.70</td>\n",
       "      <td>109149.67</td>\n",
       "      <td>130.50</td>\n",
       "      <td>8145.35</td>\n",
       "      <td>103.14</td>\n",
       "      <td>0.0</td>\n",
       "      <td>0</td>\n",
       "      <td>2015</td>\n",
       "      <td>0</td>\n",
       "    </tr>\n",
       "    <tr>\n",
       "      <th>3</th>\n",
       "      <td>1.08</td>\n",
       "      <td>1132.00</td>\n",
       "      <td>71976.41</td>\n",
       "      <td>72.58</td>\n",
       "      <td>5811.16</td>\n",
       "      <td>133.76</td>\n",
       "      <td>0.0</td>\n",
       "      <td>0</td>\n",
       "      <td>2015</td>\n",
       "      <td>0</td>\n",
       "    </tr>\n",
       "    <tr>\n",
       "      <th>4</th>\n",
       "      <td>1.28</td>\n",
       "      <td>941.48</td>\n",
       "      <td>43838.39</td>\n",
       "      <td>75.78</td>\n",
       "      <td>6183.95</td>\n",
       "      <td>197.69</td>\n",
       "      <td>0.0</td>\n",
       "      <td>0</td>\n",
       "      <td>2015</td>\n",
       "      <td>0</td>\n",
       "    </tr>\n",
       "    <tr>\n",
       "      <th>...</th>\n",
       "      <td>...</td>\n",
       "      <td>...</td>\n",
       "      <td>...</td>\n",
       "      <td>...</td>\n",
       "      <td>...</td>\n",
       "      <td>...</td>\n",
       "      <td>...</td>\n",
       "      <td>...</td>\n",
       "      <td>...</td>\n",
       "      <td>...</td>\n",
       "    </tr>\n",
       "    <tr>\n",
       "      <th>18244</th>\n",
       "      <td>1.63</td>\n",
       "      <td>2046.96</td>\n",
       "      <td>1529.20</td>\n",
       "      <td>0.00</td>\n",
       "      <td>13498.67</td>\n",
       "      <td>431.85</td>\n",
       "      <td>0.0</td>\n",
       "      <td>1</td>\n",
       "      <td>2018</td>\n",
       "      <td>53</td>\n",
       "    </tr>\n",
       "    <tr>\n",
       "      <th>18245</th>\n",
       "      <td>1.71</td>\n",
       "      <td>1191.70</td>\n",
       "      <td>3431.50</td>\n",
       "      <td>0.00</td>\n",
       "      <td>9264.84</td>\n",
       "      <td>324.80</td>\n",
       "      <td>0.0</td>\n",
       "      <td>1</td>\n",
       "      <td>2018</td>\n",
       "      <td>53</td>\n",
       "    </tr>\n",
       "    <tr>\n",
       "      <th>18246</th>\n",
       "      <td>1.87</td>\n",
       "      <td>1191.92</td>\n",
       "      <td>2452.79</td>\n",
       "      <td>727.94</td>\n",
       "      <td>9394.11</td>\n",
       "      <td>42.31</td>\n",
       "      <td>0.0</td>\n",
       "      <td>1</td>\n",
       "      <td>2018</td>\n",
       "      <td>53</td>\n",
       "    </tr>\n",
       "    <tr>\n",
       "      <th>18247</th>\n",
       "      <td>1.93</td>\n",
       "      <td>1527.63</td>\n",
       "      <td>2981.04</td>\n",
       "      <td>727.01</td>\n",
       "      <td>10969.54</td>\n",
       "      <td>50.00</td>\n",
       "      <td>0.0</td>\n",
       "      <td>1</td>\n",
       "      <td>2018</td>\n",
       "      <td>53</td>\n",
       "    </tr>\n",
       "    <tr>\n",
       "      <th>18248</th>\n",
       "      <td>1.62</td>\n",
       "      <td>2894.77</td>\n",
       "      <td>2356.13</td>\n",
       "      <td>224.53</td>\n",
       "      <td>12014.15</td>\n",
       "      <td>26.01</td>\n",
       "      <td>0.0</td>\n",
       "      <td>1</td>\n",
       "      <td>2018</td>\n",
       "      <td>53</td>\n",
       "    </tr>\n",
       "  </tbody>\n",
       "</table>\n",
       "<p>17653 rows × 10 columns</p>\n",
       "</div>"
      ],
      "text/plain": [
       "       AveragePrice     4046       4225    4770  Total Bags  Large Bags  \\\n",
       "0              1.33  1036.74   54454.85   48.16     8696.87       93.25   \n",
       "1              1.35   674.28   44638.81   58.33     9505.56       97.49   \n",
       "2              0.93   794.70  109149.67  130.50     8145.35      103.14   \n",
       "3              1.08  1132.00   71976.41   72.58     5811.16      133.76   \n",
       "4              1.28   941.48   43838.39   75.78     6183.95      197.69   \n",
       "...             ...      ...        ...     ...         ...         ...   \n",
       "18244          1.63  2046.96    1529.20    0.00    13498.67      431.85   \n",
       "18245          1.71  1191.70    3431.50    0.00     9264.84      324.80   \n",
       "18246          1.87  1191.92    2452.79  727.94     9394.11       42.31   \n",
       "18247          1.93  1527.63    2981.04  727.01    10969.54       50.00   \n",
       "18248          1.62  2894.77    2356.13  224.53    12014.15       26.01   \n",
       "\n",
       "       XLarge Bags  type  year  region  \n",
       "0              0.0     0  2015       0  \n",
       "1              0.0     0  2015       0  \n",
       "2              0.0     0  2015       0  \n",
       "3              0.0     0  2015       0  \n",
       "4              0.0     0  2015       0  \n",
       "...            ...   ...   ...     ...  \n",
       "18244          0.0     1  2018      53  \n",
       "18245          0.0     1  2018      53  \n",
       "18246          0.0     1  2018      53  \n",
       "18247          0.0     1  2018      53  \n",
       "18248          0.0     1  2018      53  \n",
       "\n",
       "[17653 rows x 10 columns]"
      ]
     },
     "execution_count": 571,
     "metadata": {},
     "output_type": "execute_result"
    }
   ],
   "source": [
    "from scipy.stats import zscore\n",
    "z=np.abs(zscore(df))\n",
    "\n",
    "threshold=3\n",
    "print(np.where(z>3))\n",
    "\n",
    "df_new=df[(z<3).all(axis=1)]\n",
    "df_new"
   ]
  },
  {
   "cell_type": "markdown",
   "metadata": {},
   "source": [
    "After removing outliers we care loosing 3% of total data which is acceptable, hence i will continue with the new dataset whict is free from outliers."
   ]
  },
  {
   "cell_type": "code",
   "execution_count": 572,
   "metadata": {},
   "outputs": [
    {
     "data": {
      "text/html": [
       "<div>\n",
       "<style scoped>\n",
       "    .dataframe tbody tr th:only-of-type {\n",
       "        vertical-align: middle;\n",
       "    }\n",
       "\n",
       "    .dataframe tbody tr th {\n",
       "        vertical-align: top;\n",
       "    }\n",
       "\n",
       "    .dataframe thead th {\n",
       "        text-align: right;\n",
       "    }\n",
       "</style>\n",
       "<table border=\"1\" class=\"dataframe\">\n",
       "  <thead>\n",
       "    <tr style=\"text-align: right;\">\n",
       "      <th></th>\n",
       "      <th>AveragePrice</th>\n",
       "      <th>4046</th>\n",
       "      <th>4225</th>\n",
       "      <th>4770</th>\n",
       "      <th>Total Bags</th>\n",
       "      <th>Large Bags</th>\n",
       "      <th>XLarge Bags</th>\n",
       "      <th>type</th>\n",
       "      <th>year</th>\n",
       "    </tr>\n",
       "  </thead>\n",
       "  <tbody>\n",
       "    <tr>\n",
       "      <th>0</th>\n",
       "      <td>1.33</td>\n",
       "      <td>1036.74</td>\n",
       "      <td>54454.85</td>\n",
       "      <td>48.16</td>\n",
       "      <td>8696.87</td>\n",
       "      <td>93.25</td>\n",
       "      <td>0.0</td>\n",
       "      <td>0</td>\n",
       "      <td>2015</td>\n",
       "    </tr>\n",
       "    <tr>\n",
       "      <th>1</th>\n",
       "      <td>1.35</td>\n",
       "      <td>674.28</td>\n",
       "      <td>44638.81</td>\n",
       "      <td>58.33</td>\n",
       "      <td>9505.56</td>\n",
       "      <td>97.49</td>\n",
       "      <td>0.0</td>\n",
       "      <td>0</td>\n",
       "      <td>2015</td>\n",
       "    </tr>\n",
       "    <tr>\n",
       "      <th>2</th>\n",
       "      <td>0.93</td>\n",
       "      <td>794.70</td>\n",
       "      <td>109149.67</td>\n",
       "      <td>130.50</td>\n",
       "      <td>8145.35</td>\n",
       "      <td>103.14</td>\n",
       "      <td>0.0</td>\n",
       "      <td>0</td>\n",
       "      <td>2015</td>\n",
       "    </tr>\n",
       "    <tr>\n",
       "      <th>3</th>\n",
       "      <td>1.08</td>\n",
       "      <td>1132.00</td>\n",
       "      <td>71976.41</td>\n",
       "      <td>72.58</td>\n",
       "      <td>5811.16</td>\n",
       "      <td>133.76</td>\n",
       "      <td>0.0</td>\n",
       "      <td>0</td>\n",
       "      <td>2015</td>\n",
       "    </tr>\n",
       "    <tr>\n",
       "      <th>4</th>\n",
       "      <td>1.28</td>\n",
       "      <td>941.48</td>\n",
       "      <td>43838.39</td>\n",
       "      <td>75.78</td>\n",
       "      <td>6183.95</td>\n",
       "      <td>197.69</td>\n",
       "      <td>0.0</td>\n",
       "      <td>0</td>\n",
       "      <td>2015</td>\n",
       "    </tr>\n",
       "    <tr>\n",
       "      <th>...</th>\n",
       "      <td>...</td>\n",
       "      <td>...</td>\n",
       "      <td>...</td>\n",
       "      <td>...</td>\n",
       "      <td>...</td>\n",
       "      <td>...</td>\n",
       "      <td>...</td>\n",
       "      <td>...</td>\n",
       "      <td>...</td>\n",
       "    </tr>\n",
       "    <tr>\n",
       "      <th>18244</th>\n",
       "      <td>1.63</td>\n",
       "      <td>2046.96</td>\n",
       "      <td>1529.20</td>\n",
       "      <td>0.00</td>\n",
       "      <td>13498.67</td>\n",
       "      <td>431.85</td>\n",
       "      <td>0.0</td>\n",
       "      <td>1</td>\n",
       "      <td>2018</td>\n",
       "    </tr>\n",
       "    <tr>\n",
       "      <th>18245</th>\n",
       "      <td>1.71</td>\n",
       "      <td>1191.70</td>\n",
       "      <td>3431.50</td>\n",
       "      <td>0.00</td>\n",
       "      <td>9264.84</td>\n",
       "      <td>324.80</td>\n",
       "      <td>0.0</td>\n",
       "      <td>1</td>\n",
       "      <td>2018</td>\n",
       "    </tr>\n",
       "    <tr>\n",
       "      <th>18246</th>\n",
       "      <td>1.87</td>\n",
       "      <td>1191.92</td>\n",
       "      <td>2452.79</td>\n",
       "      <td>727.94</td>\n",
       "      <td>9394.11</td>\n",
       "      <td>42.31</td>\n",
       "      <td>0.0</td>\n",
       "      <td>1</td>\n",
       "      <td>2018</td>\n",
       "    </tr>\n",
       "    <tr>\n",
       "      <th>18247</th>\n",
       "      <td>1.93</td>\n",
       "      <td>1527.63</td>\n",
       "      <td>2981.04</td>\n",
       "      <td>727.01</td>\n",
       "      <td>10969.54</td>\n",
       "      <td>50.00</td>\n",
       "      <td>0.0</td>\n",
       "      <td>1</td>\n",
       "      <td>2018</td>\n",
       "    </tr>\n",
       "    <tr>\n",
       "      <th>18248</th>\n",
       "      <td>1.62</td>\n",
       "      <td>2894.77</td>\n",
       "      <td>2356.13</td>\n",
       "      <td>224.53</td>\n",
       "      <td>12014.15</td>\n",
       "      <td>26.01</td>\n",
       "      <td>0.0</td>\n",
       "      <td>1</td>\n",
       "      <td>2018</td>\n",
       "    </tr>\n",
       "  </tbody>\n",
       "</table>\n",
       "<p>17653 rows × 9 columns</p>\n",
       "</div>"
      ],
      "text/plain": [
       "       AveragePrice     4046       4225    4770  Total Bags  Large Bags  \\\n",
       "0              1.33  1036.74   54454.85   48.16     8696.87       93.25   \n",
       "1              1.35   674.28   44638.81   58.33     9505.56       97.49   \n",
       "2              0.93   794.70  109149.67  130.50     8145.35      103.14   \n",
       "3              1.08  1132.00   71976.41   72.58     5811.16      133.76   \n",
       "4              1.28   941.48   43838.39   75.78     6183.95      197.69   \n",
       "...             ...      ...        ...     ...         ...         ...   \n",
       "18244          1.63  2046.96    1529.20    0.00    13498.67      431.85   \n",
       "18245          1.71  1191.70    3431.50    0.00     9264.84      324.80   \n",
       "18246          1.87  1191.92    2452.79  727.94     9394.11       42.31   \n",
       "18247          1.93  1527.63    2981.04  727.01    10969.54       50.00   \n",
       "18248          1.62  2894.77    2356.13  224.53    12014.15       26.01   \n",
       "\n",
       "       XLarge Bags  type  year  \n",
       "0              0.0     0  2015  \n",
       "1              0.0     0  2015  \n",
       "2              0.0     0  2015  \n",
       "3              0.0     0  2015  \n",
       "4              0.0     0  2015  \n",
       "...            ...   ...   ...  \n",
       "18244          0.0     1  2018  \n",
       "18245          0.0     1  2018  \n",
       "18246          0.0     1  2018  \n",
       "18247          0.0     1  2018  \n",
       "18248          0.0     1  2018  \n",
       "\n",
       "[17653 rows x 9 columns]"
      ]
     },
     "execution_count": 572,
     "metadata": {},
     "output_type": "execute_result"
    }
   ],
   "source": [
    "X = df_new.iloc[:,:-1]\n",
    "X"
   ]
  },
  {
   "cell_type": "code",
   "execution_count": 573,
   "metadata": {},
   "outputs": [
    {
     "data": {
      "text/plain": [
       "AveragePrice    0.376942\n",
       "4046            4.903567\n",
       "4225            4.451589\n",
       "4770            5.111504\n",
       "Total Bags      4.089312\n",
       "Large Bags      5.053647\n",
       "XLarge Bags     6.127601\n",
       "type           -0.037510\n",
       "year            0.229732\n",
       "dtype: float64"
      ]
     },
     "execution_count": 573,
     "metadata": {},
     "output_type": "execute_result"
    }
   ],
   "source": [
    "X.skew()"
   ]
  },
  {
   "cell_type": "markdown",
   "metadata": {},
   "source": [
    "Removing outliers has resulted in reducing the skewness upto some extent, but the data is still skewed hance i will use power transform to reduce the skewness further."
   ]
  },
  {
   "cell_type": "code",
   "execution_count": 633,
   "metadata": {},
   "outputs": [
    {
     "data": {
      "text/plain": [
       "array([[-0.11768671, -0.65748818,  0.35119234, ..., -1.01892949,\n",
       "        -1.21076129, -2.01062889],\n",
       "       [-0.06420752, -0.77723494,  0.26929166, ..., -1.01892949,\n",
       "        -1.21076129, -2.01062889],\n",
       "       [-1.29815712, -0.73183666,  0.64903154, ..., -1.01892949,\n",
       "        -1.21076129, -2.01062889],\n",
       "       ...,\n",
       "       [ 1.18434277, -0.61803808, -0.77896172, ...,  0.98142218,\n",
       "         1.97863072,  1.57831989],\n",
       "       [ 1.31333288, -0.54709044, -0.71644563, ...,  0.98142218,\n",
       "         1.97863072,  1.57831989],\n",
       "       [ 0.61562376, -0.35977488, -0.79171745, ...,  0.98142218,\n",
       "         1.97863072,  1.57831989]])"
      ]
     },
     "execution_count": 633,
     "metadata": {},
     "output_type": "execute_result"
    }
   ],
   "source": [
    "from sklearn.preprocessing import power_transform\n",
    "data = power_transform(df_new, method = \"yeo-johnson\")\n",
    "data"
   ]
  },
  {
   "cell_type": "code",
   "execution_count": 575,
   "metadata": {},
   "outputs": [
    {
     "data": {
      "text/plain": [
       "(17653, 10)"
      ]
     },
     "execution_count": 575,
     "metadata": {},
     "output_type": "execute_result"
    }
   ],
   "source": [
    " data.shape"
   ]
  },
  {
   "cell_type": "code",
   "execution_count": 576,
   "metadata": {},
   "outputs": [
    {
     "data": {
      "text/html": [
       "<div>\n",
       "<style scoped>\n",
       "    .dataframe tbody tr th:only-of-type {\n",
       "        vertical-align: middle;\n",
       "    }\n",
       "\n",
       "    .dataframe tbody tr th {\n",
       "        vertical-align: top;\n",
       "    }\n",
       "\n",
       "    .dataframe thead th {\n",
       "        text-align: right;\n",
       "    }\n",
       "</style>\n",
       "<table border=\"1\" class=\"dataframe\">\n",
       "  <thead>\n",
       "    <tr style=\"text-align: right;\">\n",
       "      <th></th>\n",
       "      <th>0</th>\n",
       "      <th>1</th>\n",
       "      <th>2</th>\n",
       "      <th>3</th>\n",
       "      <th>4</th>\n",
       "      <th>5</th>\n",
       "      <th>6</th>\n",
       "      <th>7</th>\n",
       "      <th>8</th>\n",
       "      <th>9</th>\n",
       "    </tr>\n",
       "  </thead>\n",
       "  <tbody>\n",
       "    <tr>\n",
       "      <th>0</th>\n",
       "      <td>-0.117687</td>\n",
       "      <td>-0.657488</td>\n",
       "      <td>0.351192</td>\n",
       "      <td>-0.222754</td>\n",
       "      <td>-0.537475</td>\n",
       "      <td>-0.781264</td>\n",
       "      <td>-0.678026</td>\n",
       "      <td>-1.018929</td>\n",
       "      <td>-1.210761</td>\n",
       "      <td>-2.010629</td>\n",
       "    </tr>\n",
       "    <tr>\n",
       "      <th>1</th>\n",
       "      <td>-0.064208</td>\n",
       "      <td>-0.777235</td>\n",
       "      <td>0.269292</td>\n",
       "      <td>-0.175416</td>\n",
       "      <td>-0.498101</td>\n",
       "      <td>-0.771310</td>\n",
       "      <td>-0.678026</td>\n",
       "      <td>-1.018929</td>\n",
       "      <td>-1.210761</td>\n",
       "      <td>-2.010629</td>\n",
       "    </tr>\n",
       "    <tr>\n",
       "      <th>2</th>\n",
       "      <td>-1.298157</td>\n",
       "      <td>-0.731837</td>\n",
       "      <td>0.649032</td>\n",
       "      <td>0.023710</td>\n",
       "      <td>-0.566333</td>\n",
       "      <td>-0.758635</td>\n",
       "      <td>-0.678026</td>\n",
       "      <td>-1.018929</td>\n",
       "      <td>-1.210761</td>\n",
       "      <td>-2.010629</td>\n",
       "    </tr>\n",
       "    <tr>\n",
       "      <th>3</th>\n",
       "      <td>-0.828597</td>\n",
       "      <td>-0.632662</td>\n",
       "      <td>0.468537</td>\n",
       "      <td>-0.121363</td>\n",
       "      <td>-0.713020</td>\n",
       "      <td>-0.699236</td>\n",
       "      <td>-0.678026</td>\n",
       "      <td>-1.018929</td>\n",
       "      <td>-1.210761</td>\n",
       "      <td>-2.010629</td>\n",
       "    </tr>\n",
       "    <tr>\n",
       "      <th>4</th>\n",
       "      <td>-0.253454</td>\n",
       "      <td>-0.684569</td>\n",
       "      <td>0.261906</td>\n",
       "      <td>-0.110690</td>\n",
       "      <td>-0.686265</td>\n",
       "      <td>-0.607142</td>\n",
       "      <td>-0.678026</td>\n",
       "      <td>-1.018929</td>\n",
       "      <td>-1.210761</td>\n",
       "      <td>-2.010629</td>\n",
       "    </tr>\n",
       "    <tr>\n",
       "      <th>...</th>\n",
       "      <td>...</td>\n",
       "      <td>...</td>\n",
       "      <td>...</td>\n",
       "      <td>...</td>\n",
       "      <td>...</td>\n",
       "      <td>...</td>\n",
       "      <td>...</td>\n",
       "      <td>...</td>\n",
       "      <td>...</td>\n",
       "      <td>...</td>\n",
       "    </tr>\n",
       "    <tr>\n",
       "      <th>17648</th>\n",
       "      <td>0.639414</td>\n",
       "      <td>-0.462156</td>\n",
       "      <td>-0.926085</td>\n",
       "      <td>-1.229040</td>\n",
       "      <td>-0.340423</td>\n",
       "      <td>-0.412517</td>\n",
       "      <td>-0.678026</td>\n",
       "      <td>0.981422</td>\n",
       "      <td>1.978631</td>\n",
       "      <td>1.578320</td>\n",
       "    </tr>\n",
       "    <tr>\n",
       "      <th>17649</th>\n",
       "      <td>0.826485</td>\n",
       "      <td>-0.618090</td>\n",
       "      <td>-0.670679</td>\n",
       "      <td>-1.229040</td>\n",
       "      <td>-0.509485</td>\n",
       "      <td>-0.485106</td>\n",
       "      <td>-0.678026</td>\n",
       "      <td>0.981422</td>\n",
       "      <td>1.978631</td>\n",
       "      <td>1.578320</td>\n",
       "    </tr>\n",
       "    <tr>\n",
       "      <th>17650</th>\n",
       "      <td>1.184343</td>\n",
       "      <td>-0.618038</td>\n",
       "      <td>-0.778962</td>\n",
       "      <td>0.445461</td>\n",
       "      <td>-0.503338</td>\n",
       "      <td>-0.950848</td>\n",
       "      <td>-0.678026</td>\n",
       "      <td>0.981422</td>\n",
       "      <td>1.978631</td>\n",
       "      <td>1.578320</td>\n",
       "    </tr>\n",
       "    <tr>\n",
       "      <th>17651</th>\n",
       "      <td>1.313333</td>\n",
       "      <td>-0.547090</td>\n",
       "      <td>-0.716446</td>\n",
       "      <td>0.445150</td>\n",
       "      <td>-0.434159</td>\n",
       "      <td>-0.916175</td>\n",
       "      <td>-0.678026</td>\n",
       "      <td>0.981422</td>\n",
       "      <td>1.978631</td>\n",
       "      <td>1.578320</td>\n",
       "    </tr>\n",
       "    <tr>\n",
       "      <th>17652</th>\n",
       "      <td>0.615624</td>\n",
       "      <td>-0.359775</td>\n",
       "      <td>-0.791717</td>\n",
       "      <td>0.157542</td>\n",
       "      <td>-0.393226</td>\n",
       "      <td>-1.048217</td>\n",
       "      <td>-0.678026</td>\n",
       "      <td>0.981422</td>\n",
       "      <td>1.978631</td>\n",
       "      <td>1.578320</td>\n",
       "    </tr>\n",
       "  </tbody>\n",
       "</table>\n",
       "<p>17653 rows × 10 columns</p>\n",
       "</div>"
      ],
      "text/plain": [
       "              0         1         2         3         4         5         6  \\\n",
       "0     -0.117687 -0.657488  0.351192 -0.222754 -0.537475 -0.781264 -0.678026   \n",
       "1     -0.064208 -0.777235  0.269292 -0.175416 -0.498101 -0.771310 -0.678026   \n",
       "2     -1.298157 -0.731837  0.649032  0.023710 -0.566333 -0.758635 -0.678026   \n",
       "3     -0.828597 -0.632662  0.468537 -0.121363 -0.713020 -0.699236 -0.678026   \n",
       "4     -0.253454 -0.684569  0.261906 -0.110690 -0.686265 -0.607142 -0.678026   \n",
       "...         ...       ...       ...       ...       ...       ...       ...   \n",
       "17648  0.639414 -0.462156 -0.926085 -1.229040 -0.340423 -0.412517 -0.678026   \n",
       "17649  0.826485 -0.618090 -0.670679 -1.229040 -0.509485 -0.485106 -0.678026   \n",
       "17650  1.184343 -0.618038 -0.778962  0.445461 -0.503338 -0.950848 -0.678026   \n",
       "17651  1.313333 -0.547090 -0.716446  0.445150 -0.434159 -0.916175 -0.678026   \n",
       "17652  0.615624 -0.359775 -0.791717  0.157542 -0.393226 -1.048217 -0.678026   \n",
       "\n",
       "              7         8         9  \n",
       "0     -1.018929 -1.210761 -2.010629  \n",
       "1     -1.018929 -1.210761 -2.010629  \n",
       "2     -1.018929 -1.210761 -2.010629  \n",
       "3     -1.018929 -1.210761 -2.010629  \n",
       "4     -1.018929 -1.210761 -2.010629  \n",
       "...         ...       ...       ...  \n",
       "17648  0.981422  1.978631  1.578320  \n",
       "17649  0.981422  1.978631  1.578320  \n",
       "17650  0.981422  1.978631  1.578320  \n",
       "17651  0.981422  1.978631  1.578320  \n",
       "17652  0.981422  1.978631  1.578320  \n",
       "\n",
       "[17653 rows x 10 columns]"
      ]
     },
     "execution_count": 576,
     "metadata": {},
     "output_type": "execute_result"
    }
   ],
   "source": [
    "x = pd.DataFrame(data)\n",
    "x"
   ]
  },
  {
   "cell_type": "code",
   "execution_count": 577,
   "metadata": {},
   "outputs": [
    {
     "data": {
      "text/plain": [
       "0    0.000414\n",
       "1   -0.039244\n",
       "2   -0.044655\n",
       "3    0.024146\n",
       "4   -0.022071\n",
       "5   -0.110932\n",
       "6    0.853456\n",
       "7   -0.037510\n",
       "8    0.227483\n",
       "9   -0.257751\n",
       "dtype: float64"
      ]
     },
     "execution_count": 577,
     "metadata": {},
     "output_type": "execute_result"
    }
   ],
   "source": [
    "x.skew()"
   ]
  },
  {
   "cell_type": "code",
   "execution_count": 578,
   "metadata": {},
   "outputs": [
    {
     "data": {
      "text/html": [
       "<div>\n",
       "<style scoped>\n",
       "    .dataframe tbody tr th:only-of-type {\n",
       "        vertical-align: middle;\n",
       "    }\n",
       "\n",
       "    .dataframe tbody tr th {\n",
       "        vertical-align: top;\n",
       "    }\n",
       "\n",
       "    .dataframe thead th {\n",
       "        text-align: right;\n",
       "    }\n",
       "</style>\n",
       "<table border=\"1\" class=\"dataframe\">\n",
       "  <thead>\n",
       "    <tr style=\"text-align: right;\">\n",
       "      <th></th>\n",
       "      <th>region</th>\n",
       "    </tr>\n",
       "  </thead>\n",
       "  <tbody>\n",
       "    <tr>\n",
       "      <th>0</th>\n",
       "      <td>0</td>\n",
       "    </tr>\n",
       "    <tr>\n",
       "      <th>1</th>\n",
       "      <td>0</td>\n",
       "    </tr>\n",
       "    <tr>\n",
       "      <th>2</th>\n",
       "      <td>0</td>\n",
       "    </tr>\n",
       "    <tr>\n",
       "      <th>3</th>\n",
       "      <td>0</td>\n",
       "    </tr>\n",
       "    <tr>\n",
       "      <th>4</th>\n",
       "      <td>0</td>\n",
       "    </tr>\n",
       "    <tr>\n",
       "      <th>...</th>\n",
       "      <td>...</td>\n",
       "    </tr>\n",
       "    <tr>\n",
       "      <th>18244</th>\n",
       "      <td>53</td>\n",
       "    </tr>\n",
       "    <tr>\n",
       "      <th>18245</th>\n",
       "      <td>53</td>\n",
       "    </tr>\n",
       "    <tr>\n",
       "      <th>18246</th>\n",
       "      <td>53</td>\n",
       "    </tr>\n",
       "    <tr>\n",
       "      <th>18247</th>\n",
       "      <td>53</td>\n",
       "    </tr>\n",
       "    <tr>\n",
       "      <th>18248</th>\n",
       "      <td>53</td>\n",
       "    </tr>\n",
       "  </tbody>\n",
       "</table>\n",
       "<p>17653 rows × 1 columns</p>\n",
       "</div>"
      ],
      "text/plain": [
       "       region\n",
       "0           0\n",
       "1           0\n",
       "2           0\n",
       "3           0\n",
       "4           0\n",
       "...       ...\n",
       "18244      53\n",
       "18245      53\n",
       "18246      53\n",
       "18247      53\n",
       "18248      53\n",
       "\n",
       "[17653 rows x 1 columns]"
      ]
     },
     "execution_count": 578,
     "metadata": {},
     "output_type": "execute_result"
    }
   ],
   "source": [
    "y = df_new.iloc[:,-1:]\n",
    "y"
   ]
  },
  {
   "cell_type": "code",
   "execution_count": 579,
   "metadata": {},
   "outputs": [],
   "source": [
    "from sklearn.preprocessing import StandardScaler\n",
    "sc = StandardScaler()"
   ]
  },
  {
   "cell_type": "code",
   "execution_count": 580,
   "metadata": {},
   "outputs": [
    {
     "data": {
      "text/plain": [
       "array([[-0.11768671, -0.65748818,  0.35119234, ..., -1.01892949,\n",
       "        -1.21073637, -2.01062889],\n",
       "       [-0.06420752, -0.77723494,  0.26929166, ..., -1.01892949,\n",
       "        -1.21073637, -2.01062889],\n",
       "       [-1.29815712, -0.73183666,  0.64903154, ..., -1.01892949,\n",
       "        -1.21073637, -2.01062889],\n",
       "       ...,\n",
       "       [ 1.18434277, -0.61803808, -0.77896172, ...,  0.98142218,\n",
       "         1.97865564,  1.57831989],\n",
       "       [ 1.31333288, -0.54709044, -0.71644563, ...,  0.98142218,\n",
       "         1.97865564,  1.57831989],\n",
       "       [ 0.61562376, -0.35977488, -0.79171745, ...,  0.98142218,\n",
       "         1.97865564,  1.57831989]])"
      ]
     },
     "execution_count": 580,
     "metadata": {},
     "output_type": "execute_result"
    }
   ],
   "source": [
    "x = sc.fit_transform(x)\n",
    "x"
   ]
  },
  {
   "cell_type": "code",
   "execution_count": 581,
   "metadata": {},
   "outputs": [
    {
     "data": {
      "text/plain": [
       "(17653, 10)"
      ]
     },
     "execution_count": 581,
     "metadata": {},
     "output_type": "execute_result"
    }
   ],
   "source": [
    "x.shape"
   ]
  },
  {
   "cell_type": "code",
   "execution_count": 582,
   "metadata": {},
   "outputs": [
    {
     "name": "stdout",
     "output_type": "stream",
     "text": [
      "Best accuracy score is  1.0 on Random state  1\n"
     ]
    }
   ],
   "source": [
    "maxscore=0\n",
    "maxRS=0\n",
    "for i in range(1,200):\n",
    "    x_train,x_test,y_train,y_test=train_test_split(x,y,test_size=0.3, random_state=i)\n",
    "    mod = DecisionTreeClassifier()\n",
    "    mod.fit(x_train,y_train)\n",
    "    pred = mod.predict(x_test)\n",
    "    acc = accuracy_score(y_test,pred)\n",
    "    if acc>maxscore:\n",
    "        maxscore=acc\n",
    "        maxRS=i\n",
    "print(\"Best accuracy score is \", maxscore, 'on Random state ', maxRS)"
   ]
  },
  {
   "cell_type": "markdown",
   "metadata": {},
   "source": [
    "With this code I come to know that the best accuracy we can achieve with the Decision Classifier is 100% and the random state which is ideal for train and test split is 1. Hence now I will use rondom state as 1 for train test split."
   ]
  },
  {
   "cell_type": "code",
   "execution_count": 583,
   "metadata": {},
   "outputs": [],
   "source": [
    "x_train,x_test,y_train,y_test=train_test_split(x,y,test_size=0.3, random_state=1)"
   ]
  },
  {
   "cell_type": "code",
   "execution_count": 584,
   "metadata": {},
   "outputs": [
    {
     "data": {
      "text/plain": [
       "(12357, 10)"
      ]
     },
     "execution_count": 584,
     "metadata": {},
     "output_type": "execute_result"
    }
   ],
   "source": [
    "x_train.shape"
   ]
  },
  {
   "cell_type": "code",
   "execution_count": 585,
   "metadata": {},
   "outputs": [
    {
     "data": {
      "text/plain": [
       "(12357, 1)"
      ]
     },
     "execution_count": 585,
     "metadata": {},
     "output_type": "execute_result"
    }
   ],
   "source": [
    "y_train.shape"
   ]
  },
  {
   "cell_type": "code",
   "execution_count": 586,
   "metadata": {},
   "outputs": [
    {
     "data": {
      "text/plain": [
       "(5296, 10)"
      ]
     },
     "execution_count": 586,
     "metadata": {},
     "output_type": "execute_result"
    }
   ],
   "source": [
    "x_test.shape"
   ]
  },
  {
   "cell_type": "code",
   "execution_count": 587,
   "metadata": {},
   "outputs": [
    {
     "data": {
      "text/plain": [
       "(12357, 10)"
      ]
     },
     "execution_count": 587,
     "metadata": {},
     "output_type": "execute_result"
    }
   ],
   "source": [
    "x_train.shape"
   ]
  },
  {
   "cell_type": "code",
   "execution_count": 588,
   "metadata": {},
   "outputs": [
    {
     "name": "stdout",
     "output_type": "stream",
     "text": [
      "accuracy_score of DecisionTreeClassifier() is:\n",
      "1.0\n",
      "[[ 92   0   0 ...   0   0   0]\n",
      " [  0 110   0 ...   0   0   0]\n",
      " [  0   0 120 ...   0   0   0]\n",
      " ...\n",
      " [  0   0   0 ...  49   0   0]\n",
      " [  0   0   0 ...   0  72   0]\n",
      " [  0   0   0 ...   0   0 109]]\n",
      "              precision    recall  f1-score   support\n",
      "\n",
      "           0       1.00      1.00      1.00        92\n",
      "           1       1.00      1.00      1.00       110\n",
      "           2       1.00      1.00      1.00       120\n",
      "           3       1.00      1.00      1.00        93\n",
      "           4       1.00      1.00      1.00       111\n",
      "           5       1.00      1.00      1.00       113\n",
      "           6       1.00      1.00      1.00        93\n",
      "           7       1.00      1.00      1.00        99\n",
      "           8       1.00      1.00      1.00        99\n",
      "           9       1.00      1.00      1.00        98\n",
      "          10       1.00      1.00      1.00       113\n",
      "          11       1.00      1.00      1.00       106\n",
      "          12       1.00      1.00      1.00       106\n",
      "          13       1.00      1.00      1.00       108\n",
      "          14       1.00      1.00      1.00        99\n",
      "          15       1.00      1.00      1.00        77\n",
      "          16       1.00      1.00      1.00        91\n",
      "          17       1.00      1.00      1.00       107\n",
      "          18       1.00      1.00      1.00        94\n",
      "          19       1.00      1.00      1.00       102\n",
      "          20       1.00      1.00      1.00        95\n",
      "          21       1.00      1.00      1.00        96\n",
      "          22       1.00      1.00      1.00        98\n",
      "          23       1.00      1.00      1.00        96\n",
      "          24       1.00      1.00      1.00       104\n",
      "          25       1.00      1.00      1.00        93\n",
      "          26       1.00      1.00      1.00       100\n",
      "          27       1.00      1.00      1.00        96\n",
      "          28       1.00      1.00      1.00        99\n",
      "          29       1.00      1.00      1.00        86\n",
      "          30       1.00      1.00      1.00       106\n",
      "          31       1.00      1.00      1.00        95\n",
      "          32       1.00      1.00      1.00        96\n",
      "          33       1.00      1.00      1.00        95\n",
      "          34       1.00      1.00      1.00       107\n",
      "          35       1.00      1.00      1.00        97\n",
      "          36       1.00      1.00      1.00        98\n",
      "          37       1.00      1.00      1.00       100\n",
      "          38       1.00      1.00      1.00       107\n",
      "          39       1.00      1.00      1.00       115\n",
      "          40       1.00      1.00      1.00       115\n",
      "          41       1.00      1.00      1.00        92\n",
      "          42       1.00      1.00      1.00        90\n",
      "          43       1.00      1.00      1.00        93\n",
      "          44       1.00      1.00      1.00        83\n",
      "          45       1.00      1.00      1.00        75\n",
      "          46       1.00      1.00      1.00       104\n",
      "          47       1.00      1.00      1.00        93\n",
      "          48       1.00      1.00      1.00        91\n",
      "          49       1.00      1.00      1.00       107\n",
      "          50       1.00      1.00      1.00       113\n",
      "          51       1.00      1.00      1.00        49\n",
      "          52       1.00      1.00      1.00        72\n",
      "          53       1.00      1.00      1.00       109\n",
      "\n",
      "    accuracy                           1.00      5296\n",
      "   macro avg       1.00      1.00      1.00      5296\n",
      "weighted avg       1.00      1.00      1.00      5296\n",
      "\n",
      "\n",
      "\n",
      "accuracy_score of SVC() is:\n",
      "0.960536253776435\n",
      "[[ 92   0   0 ...   0   0   0]\n",
      " [  0 110   0 ...   0   0   0]\n",
      " [  0   0 120 ...   0   0   0]\n",
      " ...\n",
      " [  0   0   0 ...  49   0   0]\n",
      " [  0   0   0 ...   0  72   0]\n",
      " [  0   0   0 ...   0   0 106]]\n",
      "              precision    recall  f1-score   support\n",
      "\n",
      "           0       1.00      1.00      1.00        92\n",
      "           1       1.00      1.00      1.00       110\n",
      "           2       0.98      1.00      0.99       120\n",
      "           3       1.00      1.00      1.00        93\n",
      "           4       1.00      0.96      0.98       111\n",
      "           5       0.99      1.00      1.00       113\n",
      "           6       1.00      1.00      1.00        93\n",
      "           7       0.97      1.00      0.99        99\n",
      "           8       1.00      1.00      1.00        99\n",
      "           9       0.95      0.92      0.93        98\n",
      "          10       0.92      0.96      0.94       113\n",
      "          11       0.99      1.00      1.00       106\n",
      "          12       1.00      1.00      1.00       106\n",
      "          13       1.00      0.94      0.97       108\n",
      "          14       0.95      0.99      0.97        99\n",
      "          15       0.96      1.00      0.98        77\n",
      "          16       0.99      0.99      0.99        91\n",
      "          17       0.98      0.95      0.97       107\n",
      "          18       0.99      1.00      0.99        94\n",
      "          19       0.96      0.99      0.98       102\n",
      "          20       0.98      0.97      0.97        95\n",
      "          21       0.98      0.95      0.96        96\n",
      "          22       1.00      0.98      0.99        98\n",
      "          23       0.99      0.99      0.99        96\n",
      "          24       0.92      0.74      0.82       104\n",
      "          25       0.98      1.00      0.99        93\n",
      "          26       0.93      0.97      0.95       100\n",
      "          27       0.75      0.90      0.82        96\n",
      "          28       0.99      0.99      0.99        99\n",
      "          29       1.00      0.99      0.99        86\n",
      "          30       1.00      0.99      1.00       106\n",
      "          31       0.98      0.84      0.90        95\n",
      "          32       0.99      0.88      0.93        96\n",
      "          33       0.90      0.99      0.94        95\n",
      "          34       0.90      1.00      0.95       107\n",
      "          35       1.00      0.98      0.99        97\n",
      "          36       0.96      0.92      0.94        98\n",
      "          37       0.92      0.86      0.89       100\n",
      "          38       0.89      0.93      0.91       107\n",
      "          39       1.00      1.00      1.00       115\n",
      "          40       0.92      0.93      0.93       115\n",
      "          41       0.80      0.93      0.86        92\n",
      "          42       0.95      0.96      0.95        90\n",
      "          43       1.00      0.88      0.94        93\n",
      "          44       0.99      0.99      0.99        83\n",
      "          45       1.00      0.97      0.99        75\n",
      "          46       0.96      1.00      0.98       104\n",
      "          47       0.86      0.98      0.91        93\n",
      "          48       0.99      0.80      0.88        91\n",
      "          49       0.98      0.96      0.97       107\n",
      "          50       0.92      0.96      0.94       113\n",
      "          51       1.00      1.00      1.00        49\n",
      "          52       1.00      1.00      1.00        72\n",
      "          53       0.95      0.97      0.96       109\n",
      "\n",
      "    accuracy                           0.96      5296\n",
      "   macro avg       0.96      0.96      0.96      5296\n",
      "weighted avg       0.96      0.96      0.96      5296\n",
      "\n",
      "\n",
      "\n",
      "accuracy_score of KNeighborsClassifier() is:\n",
      "0.9412764350453172\n",
      "[[ 92   0   0 ...   0   0   0]\n",
      " [  0 109   0 ...   0   0   0]\n",
      " [  0   0 120 ...   0   0   0]\n",
      " ...\n",
      " [  0   0   0 ...  49   0   0]\n",
      " [  0   0   0 ...   0  72   0]\n",
      " [  0   0   0 ...   0   0 100]]\n",
      "              precision    recall  f1-score   support\n",
      "\n",
      "           0       1.00      1.00      1.00        92\n",
      "           1       1.00      0.99      1.00       110\n",
      "           2       0.97      1.00      0.98       120\n",
      "           3       0.97      1.00      0.98        93\n",
      "           4       1.00      0.95      0.98       111\n",
      "           5       0.99      0.97      0.98       113\n",
      "           6       1.00      0.99      0.99        93\n",
      "           7       0.96      0.99      0.98        99\n",
      "           8       0.96      0.98      0.97        99\n",
      "           9       0.84      0.93      0.88        98\n",
      "          10       0.89      0.88      0.89       113\n",
      "          11       0.98      0.97      0.98       106\n",
      "          12       0.98      0.98      0.98       106\n",
      "          13       0.99      0.86      0.92       108\n",
      "          14       0.94      0.96      0.95        99\n",
      "          15       0.97      0.99      0.98        77\n",
      "          16       0.93      0.99      0.96        91\n",
      "          17       1.00      0.90      0.95       107\n",
      "          18       0.90      0.98      0.94        94\n",
      "          19       0.90      0.97      0.93       102\n",
      "          20       0.95      0.93      0.94        95\n",
      "          21       0.95      0.94      0.94        96\n",
      "          22       1.00      0.97      0.98        98\n",
      "          23       0.95      0.96      0.95        96\n",
      "          24       0.89      0.87      0.88       104\n",
      "          25       0.93      1.00      0.96        93\n",
      "          26       0.93      0.94      0.94       100\n",
      "          27       0.90      0.92      0.91        96\n",
      "          28       0.99      0.98      0.98        99\n",
      "          29       0.99      0.95      0.97        86\n",
      "          30       0.98      0.98      0.98       106\n",
      "          31       0.91      0.88      0.90        95\n",
      "          32       0.93      0.89      0.91        96\n",
      "          33       0.94      0.93      0.93        95\n",
      "          34       0.97      0.95      0.96       107\n",
      "          35       0.99      0.98      0.98        97\n",
      "          36       0.87      0.85      0.86        98\n",
      "          37       0.88      0.92      0.90       100\n",
      "          38       0.85      0.90      0.87       107\n",
      "          39       0.94      0.97      0.96       115\n",
      "          40       0.89      0.88      0.89       115\n",
      "          41       0.75      0.92      0.83        92\n",
      "          42       0.88      0.91      0.90        90\n",
      "          43       0.93      0.82      0.87        93\n",
      "          44       0.92      0.92      0.92        83\n",
      "          45       0.95      0.92      0.93        75\n",
      "          46       0.93      0.95      0.94       104\n",
      "          47       0.93      0.90      0.92        93\n",
      "          48       0.90      0.85      0.87        91\n",
      "          49       0.98      0.99      0.99       107\n",
      "          50       0.94      0.91      0.92       113\n",
      "          51       1.00      1.00      1.00        49\n",
      "          52       1.00      1.00      1.00        72\n",
      "          53       1.00      0.92      0.96       109\n",
      "\n",
      "    accuracy                           0.94      5296\n",
      "   macro avg       0.94      0.94      0.94      5296\n",
      "weighted avg       0.94      0.94      0.94      5296\n",
      "\n",
      "\n",
      "\n"
     ]
    },
    {
     "name": "stdout",
     "output_type": "stream",
     "text": [
      "accuracy_score of RandomForestClassifier() is:\n",
      "0.9966012084592145\n",
      "[[ 92   0   0 ...   0   0   0]\n",
      " [  0 110   0 ...   0   0   0]\n",
      " [  0   0 120 ...   0   0   0]\n",
      " ...\n",
      " [  0   0   0 ...  49   0   0]\n",
      " [  0   0   0 ...   0  72   0]\n",
      " [  0   0   0 ...   0   0 109]]\n",
      "              precision    recall  f1-score   support\n",
      "\n",
      "           0       1.00      1.00      1.00        92\n",
      "           1       1.00      1.00      1.00       110\n",
      "           2       1.00      1.00      1.00       120\n",
      "           3       1.00      1.00      1.00        93\n",
      "           4       1.00      1.00      1.00       111\n",
      "           5       1.00      1.00      1.00       113\n",
      "           6       1.00      1.00      1.00        93\n",
      "           7       1.00      1.00      1.00        99\n",
      "           8       1.00      1.00      1.00        99\n",
      "           9       1.00      1.00      1.00        98\n",
      "          10       1.00      1.00      1.00       113\n",
      "          11       1.00      1.00      1.00       106\n",
      "          12       1.00      0.99      1.00       106\n",
      "          13       1.00      1.00      1.00       108\n",
      "          14       0.99      1.00      0.99        99\n",
      "          15       1.00      1.00      1.00        77\n",
      "          16       0.99      0.99      0.99        91\n",
      "          17       0.99      1.00      1.00       107\n",
      "          18       0.99      1.00      0.99        94\n",
      "          19       0.99      1.00      1.00       102\n",
      "          20       1.00      0.96      0.98        95\n",
      "          21       1.00      0.98      0.99        96\n",
      "          22       1.00      1.00      1.00        98\n",
      "          23       0.99      1.00      0.99        96\n",
      "          24       0.95      0.99      0.97       104\n",
      "          25       1.00      1.00      1.00        93\n",
      "          26       1.00      0.99      0.99       100\n",
      "          27       1.00      0.99      0.99        96\n",
      "          28       1.00      1.00      1.00        99\n",
      "          29       1.00      1.00      1.00        86\n",
      "          30       1.00      1.00      1.00       106\n",
      "          31       0.97      1.00      0.98        95\n",
      "          32       1.00      0.97      0.98        96\n",
      "          33       0.99      1.00      0.99        95\n",
      "          34       1.00      1.00      1.00       107\n",
      "          35       1.00      1.00      1.00        97\n",
      "          36       1.00      1.00      1.00        98\n",
      "          37       0.99      1.00      1.00       100\n",
      "          38       1.00      1.00      1.00       107\n",
      "          39       1.00      0.99      1.00       115\n",
      "          40       1.00      1.00      1.00       115\n",
      "          41       1.00      1.00      1.00        92\n",
      "          42       1.00      1.00      1.00        90\n",
      "          43       1.00      1.00      1.00        93\n",
      "          44       1.00      1.00      1.00        83\n",
      "          45       1.00      1.00      1.00        75\n",
      "          46       1.00      1.00      1.00       104\n",
      "          47       0.99      1.00      0.99        93\n",
      "          48       1.00      0.97      0.98        91\n",
      "          49       1.00      1.00      1.00       107\n",
      "          50       0.99      1.00      1.00       113\n",
      "          51       1.00      1.00      1.00        49\n",
      "          52       1.00      1.00      1.00        72\n",
      "          53       1.00      1.00      1.00       109\n",
      "\n",
      "    accuracy                           1.00      5296\n",
      "   macro avg       1.00      1.00      1.00      5296\n",
      "weighted avg       1.00      1.00      1.00      5296\n",
      "\n",
      "\n",
      "\n"
     ]
    }
   ],
   "source": [
    "model=[DecisionTreeClassifier(),SVC(),KNeighborsClassifier(), RandomForestClassifier()]\n",
    "\n",
    "for m in model:\n",
    "    m.fit(x_train,y_train)\n",
    "    m.score(x_train,y_train)\n",
    "    m_pred=m.predict(x_test)\n",
    "    print('accuracy_score of',m,\"is:\")\n",
    "    print(accuracy_score(y_test,m_pred))\n",
    "    print(confusion_matrix(y_test,m_pred))\n",
    "    print(classification_report(y_test,m_pred))\n",
    "    print(\"\\n\")"
   ]
  },
  {
   "cell_type": "code",
   "execution_count": 589,
   "metadata": {},
   "outputs": [
    {
     "name": "stdout",
     "output_type": "stream",
     "text": [
      "1.0\n"
     ]
    }
   ],
   "source": [
    "print(cross_val_score(DecisionTreeClassifier(),x,y,cv=10).mean())"
   ]
  },
  {
   "cell_type": "code",
   "execution_count": 590,
   "metadata": {},
   "outputs": [
    {
     "name": "stdout",
     "output_type": "stream",
     "text": [
      "0.9239721975367262\n"
     ]
    }
   ],
   "source": [
    "print(cross_val_score(SVC(),x,y,cv=10).mean())"
   ]
  },
  {
   "cell_type": "code",
   "execution_count": 591,
   "metadata": {},
   "outputs": [
    {
     "name": "stdout",
     "output_type": "stream",
     "text": [
      "0.7813866262002765\n"
     ]
    }
   ],
   "source": [
    "print(cross_val_score(KNeighborsClassifier(),x,y,cv=10).mean())"
   ]
  },
  {
   "cell_type": "code",
   "execution_count": 592,
   "metadata": {},
   "outputs": [
    {
     "name": "stdout",
     "output_type": "stream",
     "text": [
      "0.9914454008514625\n"
     ]
    }
   ],
   "source": [
    "print(cross_val_score(RandomForestClassifier(),x,y,cv=10).mean())"
   ]
  },
  {
   "cell_type": "markdown",
   "metadata": {},
   "source": [
    "When i checked the accuracy score with CV score, DecisionTreeClassifier and RandomForestClassifier has the least differance but which is 0% and 1% respectively. I checked confusion matrix also, and then i chose DecisionTreeClassifier as the best model to go with. Now I will check which parameters are best to use with the model with the help of hyperparameter tuning."
   ]
  },
  {
   "cell_type": "code",
   "execution_count": 593,
   "metadata": {},
   "outputs": [],
   "source": [
    "parameter = {'criterion' : ['gini', 'entropy'],\n",
    "            'min_samples_leaf' : np.arange(1,20),\n",
    "            'max_depth': np.arange(1,20),\n",
    "            'splitter':['best', 'random']}"
   ]
  },
  {
   "cell_type": "code",
   "execution_count": 594,
   "metadata": {},
   "outputs": [],
   "source": [
    "#GSV = GridSearchCV(DecisionTreeClassifier(),parameter,cv=5)\n",
    "#GSV.fit(x_train,y_train)"
   ]
  },
  {
   "cell_type": "code",
   "execution_count": 595,
   "metadata": {},
   "outputs": [],
   "source": [
    "#GSV.best_params_"
   ]
  },
  {
   "cell_type": "code",
   "execution_count": 596,
   "metadata": {},
   "outputs": [
    {
     "name": "stdout",
     "output_type": "stream",
     "text": [
      "92.35271903323263\n",
      "[[ 92   0   0 ...   0   0   0]\n",
      " [  0 110   0 ...   0   0   0]\n",
      " [  0   0 120 ...   0   0   0]\n",
      " ...\n",
      " [  0   0   0 ...  49   0   0]\n",
      " [  0   0   0 ...   0  72   0]\n",
      " [  0   0   0 ...   0   0 109]]\n",
      "              precision    recall  f1-score   support\n",
      "\n",
      "           0       1.00      1.00      1.00        92\n",
      "           1       1.00      1.00      1.00       110\n",
      "           2       1.00      1.00      1.00       120\n",
      "           3       1.00      1.00      1.00        93\n",
      "           4       1.00      1.00      1.00       111\n",
      "           5       1.00      1.00      1.00       113\n",
      "           6       1.00      1.00      1.00        93\n",
      "           7       1.00      1.00      1.00        99\n",
      "           8       1.00      1.00      1.00        99\n",
      "           9       1.00      1.00      1.00        98\n",
      "          10       1.00      1.00      1.00       113\n",
      "          11       1.00      1.00      1.00       106\n",
      "          12       1.00      1.00      1.00       106\n",
      "          13       1.00      1.00      1.00       108\n",
      "          14       1.00      1.00      1.00        99\n",
      "          15       1.00      1.00      1.00        77\n",
      "          16       1.00      1.00      1.00        91\n",
      "          17       1.00      1.00      1.00       107\n",
      "          18       1.00      1.00      1.00        94\n",
      "          19       1.00      1.00      1.00       102\n",
      "          20       1.00      1.00      1.00        95\n",
      "          21       1.00      1.00      1.00        96\n",
      "          22       1.00      1.00      1.00        98\n",
      "          23       1.00      1.00      1.00        96\n",
      "          24       1.00      1.00      1.00       104\n",
      "          25       1.00      1.00      1.00        93\n",
      "          26       1.00      1.00      1.00       100\n",
      "          27       1.00      1.00      1.00        96\n",
      "          28       1.00      1.00      1.00        99\n",
      "          29       1.00      1.00      1.00        86\n",
      "          30       0.00      0.00      0.00       106\n",
      "          31       0.47      1.00      0.64        95\n",
      "          32       0.24      1.00      0.39        96\n",
      "          33       0.00      0.00      0.00        95\n",
      "          34       0.00      0.00      0.00       107\n",
      "          35       0.00      0.00      0.00        97\n",
      "          36       1.00      1.00      1.00        98\n",
      "          37       1.00      1.00      1.00       100\n",
      "          38       1.00      1.00      1.00       107\n",
      "          39       1.00      1.00      1.00       115\n",
      "          40       1.00      1.00      1.00       115\n",
      "          41       1.00      1.00      1.00        92\n",
      "          42       1.00      1.00      1.00        90\n",
      "          43       1.00      1.00      1.00        93\n",
      "          44       1.00      1.00      1.00        83\n",
      "          45       1.00      1.00      1.00        75\n",
      "          46       1.00      1.00      1.00       104\n",
      "          47       1.00      1.00      1.00        93\n",
      "          48       1.00      1.00      1.00        91\n",
      "          49       1.00      1.00      1.00       107\n",
      "          50       1.00      1.00      1.00       113\n",
      "          51       1.00      1.00      1.00        49\n",
      "          52       1.00      1.00      1.00        72\n",
      "          53       1.00      1.00      1.00       109\n",
      "\n",
      "    accuracy                           0.92      5296\n",
      "   macro avg       0.90      0.93      0.91      5296\n",
      "weighted avg       0.90      0.92      0.91      5296\n",
      "\n"
     ]
    }
   ],
   "source": [
    "Final_model=DecisionTreeClassifier(criterion='gini', max_depth=11, min_samples_leaf=4, splitter= 'random')\n",
    "Final_model.fit(x_train,y_train)\n",
    "Final_model.score(x_train,y_train)\n",
    "pred=Final_model.predict(x_test)\n",
    "print(accuracy_score(y_test,pred)*100)\n",
    "print(confusion_matrix(y_test,pred))\n",
    "print(classification_report(y_test,pred))"
   ]
  },
  {
   "cell_type": "markdown",
   "metadata": {},
   "source": [
    "As thsese is multiclass classification, i can not Plot the AUC ROC curve."
   ]
  },
  {
   "cell_type": "markdown",
   "metadata": {},
   "source": [
    "# Regression Problem"
   ]
  },
  {
   "cell_type": "code",
   "execution_count": 610,
   "metadata": {},
   "outputs": [
    {
     "data": {
      "text/html": [
       "<div>\n",
       "<style scoped>\n",
       "    .dataframe tbody tr th:only-of-type {\n",
       "        vertical-align: middle;\n",
       "    }\n",
       "\n",
       "    .dataframe tbody tr th {\n",
       "        vertical-align: top;\n",
       "    }\n",
       "\n",
       "    .dataframe thead th {\n",
       "        text-align: right;\n",
       "    }\n",
       "</style>\n",
       "<table border=\"1\" class=\"dataframe\">\n",
       "  <thead>\n",
       "    <tr style=\"text-align: right;\">\n",
       "      <th></th>\n",
       "      <th>AveragePrice</th>\n",
       "      <th>4046</th>\n",
       "      <th>4225</th>\n",
       "      <th>4770</th>\n",
       "      <th>Total Bags</th>\n",
       "      <th>Large Bags</th>\n",
       "      <th>XLarge Bags</th>\n",
       "      <th>type</th>\n",
       "      <th>year</th>\n",
       "      <th>region</th>\n",
       "    </tr>\n",
       "  </thead>\n",
       "  <tbody>\n",
       "    <tr>\n",
       "      <th>0</th>\n",
       "      <td>1.33</td>\n",
       "      <td>1036.74</td>\n",
       "      <td>54454.85</td>\n",
       "      <td>48.16</td>\n",
       "      <td>8696.87</td>\n",
       "      <td>93.25</td>\n",
       "      <td>0.0</td>\n",
       "      <td>0</td>\n",
       "      <td>2015</td>\n",
       "      <td>0</td>\n",
       "    </tr>\n",
       "    <tr>\n",
       "      <th>1</th>\n",
       "      <td>1.35</td>\n",
       "      <td>674.28</td>\n",
       "      <td>44638.81</td>\n",
       "      <td>58.33</td>\n",
       "      <td>9505.56</td>\n",
       "      <td>97.49</td>\n",
       "      <td>0.0</td>\n",
       "      <td>0</td>\n",
       "      <td>2015</td>\n",
       "      <td>0</td>\n",
       "    </tr>\n",
       "    <tr>\n",
       "      <th>2</th>\n",
       "      <td>0.93</td>\n",
       "      <td>794.70</td>\n",
       "      <td>109149.67</td>\n",
       "      <td>130.50</td>\n",
       "      <td>8145.35</td>\n",
       "      <td>103.14</td>\n",
       "      <td>0.0</td>\n",
       "      <td>0</td>\n",
       "      <td>2015</td>\n",
       "      <td>0</td>\n",
       "    </tr>\n",
       "    <tr>\n",
       "      <th>3</th>\n",
       "      <td>1.08</td>\n",
       "      <td>1132.00</td>\n",
       "      <td>71976.41</td>\n",
       "      <td>72.58</td>\n",
       "      <td>5811.16</td>\n",
       "      <td>133.76</td>\n",
       "      <td>0.0</td>\n",
       "      <td>0</td>\n",
       "      <td>2015</td>\n",
       "      <td>0</td>\n",
       "    </tr>\n",
       "    <tr>\n",
       "      <th>4</th>\n",
       "      <td>1.28</td>\n",
       "      <td>941.48</td>\n",
       "      <td>43838.39</td>\n",
       "      <td>75.78</td>\n",
       "      <td>6183.95</td>\n",
       "      <td>197.69</td>\n",
       "      <td>0.0</td>\n",
       "      <td>0</td>\n",
       "      <td>2015</td>\n",
       "      <td>0</td>\n",
       "    </tr>\n",
       "    <tr>\n",
       "      <th>...</th>\n",
       "      <td>...</td>\n",
       "      <td>...</td>\n",
       "      <td>...</td>\n",
       "      <td>...</td>\n",
       "      <td>...</td>\n",
       "      <td>...</td>\n",
       "      <td>...</td>\n",
       "      <td>...</td>\n",
       "      <td>...</td>\n",
       "      <td>...</td>\n",
       "    </tr>\n",
       "    <tr>\n",
       "      <th>18244</th>\n",
       "      <td>1.63</td>\n",
       "      <td>2046.96</td>\n",
       "      <td>1529.20</td>\n",
       "      <td>0.00</td>\n",
       "      <td>13498.67</td>\n",
       "      <td>431.85</td>\n",
       "      <td>0.0</td>\n",
       "      <td>1</td>\n",
       "      <td>2018</td>\n",
       "      <td>53</td>\n",
       "    </tr>\n",
       "    <tr>\n",
       "      <th>18245</th>\n",
       "      <td>1.71</td>\n",
       "      <td>1191.70</td>\n",
       "      <td>3431.50</td>\n",
       "      <td>0.00</td>\n",
       "      <td>9264.84</td>\n",
       "      <td>324.80</td>\n",
       "      <td>0.0</td>\n",
       "      <td>1</td>\n",
       "      <td>2018</td>\n",
       "      <td>53</td>\n",
       "    </tr>\n",
       "    <tr>\n",
       "      <th>18246</th>\n",
       "      <td>1.87</td>\n",
       "      <td>1191.92</td>\n",
       "      <td>2452.79</td>\n",
       "      <td>727.94</td>\n",
       "      <td>9394.11</td>\n",
       "      <td>42.31</td>\n",
       "      <td>0.0</td>\n",
       "      <td>1</td>\n",
       "      <td>2018</td>\n",
       "      <td>53</td>\n",
       "    </tr>\n",
       "    <tr>\n",
       "      <th>18247</th>\n",
       "      <td>1.93</td>\n",
       "      <td>1527.63</td>\n",
       "      <td>2981.04</td>\n",
       "      <td>727.01</td>\n",
       "      <td>10969.54</td>\n",
       "      <td>50.00</td>\n",
       "      <td>0.0</td>\n",
       "      <td>1</td>\n",
       "      <td>2018</td>\n",
       "      <td>53</td>\n",
       "    </tr>\n",
       "    <tr>\n",
       "      <th>18248</th>\n",
       "      <td>1.62</td>\n",
       "      <td>2894.77</td>\n",
       "      <td>2356.13</td>\n",
       "      <td>224.53</td>\n",
       "      <td>12014.15</td>\n",
       "      <td>26.01</td>\n",
       "      <td>0.0</td>\n",
       "      <td>1</td>\n",
       "      <td>2018</td>\n",
       "      <td>53</td>\n",
       "    </tr>\n",
       "  </tbody>\n",
       "</table>\n",
       "<p>18249 rows × 10 columns</p>\n",
       "</div>"
      ],
      "text/plain": [
       "       AveragePrice     4046       4225    4770  Total Bags  Large Bags  \\\n",
       "0              1.33  1036.74   54454.85   48.16     8696.87       93.25   \n",
       "1              1.35   674.28   44638.81   58.33     9505.56       97.49   \n",
       "2              0.93   794.70  109149.67  130.50     8145.35      103.14   \n",
       "3              1.08  1132.00   71976.41   72.58     5811.16      133.76   \n",
       "4              1.28   941.48   43838.39   75.78     6183.95      197.69   \n",
       "...             ...      ...        ...     ...         ...         ...   \n",
       "18244          1.63  2046.96    1529.20    0.00    13498.67      431.85   \n",
       "18245          1.71  1191.70    3431.50    0.00     9264.84      324.80   \n",
       "18246          1.87  1191.92    2452.79  727.94     9394.11       42.31   \n",
       "18247          1.93  1527.63    2981.04  727.01    10969.54       50.00   \n",
       "18248          1.62  2894.77    2356.13  224.53    12014.15       26.01   \n",
       "\n",
       "       XLarge Bags  type  year  region  \n",
       "0              0.0     0  2015       0  \n",
       "1              0.0     0  2015       0  \n",
       "2              0.0     0  2015       0  \n",
       "3              0.0     0  2015       0  \n",
       "4              0.0     0  2015       0  \n",
       "...            ...   ...   ...     ...  \n",
       "18244          0.0     1  2018      53  \n",
       "18245          0.0     1  2018      53  \n",
       "18246          0.0     1  2018      53  \n",
       "18247          0.0     1  2018      53  \n",
       "18248          0.0     1  2018      53  \n",
       "\n",
       "[18249 rows x 10 columns]"
      ]
     },
     "execution_count": 610,
     "metadata": {},
     "output_type": "execute_result"
    }
   ],
   "source": [
    "df_new"
   ]
  },
  {
   "cell_type": "code",
   "execution_count": 598,
   "metadata": {},
   "outputs": [
    {
     "data": {
      "text/html": [
       "<div>\n",
       "<style scoped>\n",
       "    .dataframe tbody tr th:only-of-type {\n",
       "        vertical-align: middle;\n",
       "    }\n",
       "\n",
       "    .dataframe tbody tr th {\n",
       "        vertical-align: top;\n",
       "    }\n",
       "\n",
       "    .dataframe thead th {\n",
       "        text-align: right;\n",
       "    }\n",
       "</style>\n",
       "<table border=\"1\" class=\"dataframe\">\n",
       "  <thead>\n",
       "    <tr style=\"text-align: right;\">\n",
       "      <th></th>\n",
       "      <th>4046</th>\n",
       "      <th>4225</th>\n",
       "      <th>4770</th>\n",
       "      <th>Total Bags</th>\n",
       "      <th>Large Bags</th>\n",
       "      <th>XLarge Bags</th>\n",
       "      <th>type</th>\n",
       "      <th>year</th>\n",
       "      <th>region</th>\n",
       "    </tr>\n",
       "  </thead>\n",
       "  <tbody>\n",
       "    <tr>\n",
       "      <th>0</th>\n",
       "      <td>1036.74</td>\n",
       "      <td>54454.85</td>\n",
       "      <td>48.16</td>\n",
       "      <td>8696.87</td>\n",
       "      <td>93.25</td>\n",
       "      <td>0.0</td>\n",
       "      <td>0</td>\n",
       "      <td>2015</td>\n",
       "      <td>0</td>\n",
       "    </tr>\n",
       "    <tr>\n",
       "      <th>1</th>\n",
       "      <td>674.28</td>\n",
       "      <td>44638.81</td>\n",
       "      <td>58.33</td>\n",
       "      <td>9505.56</td>\n",
       "      <td>97.49</td>\n",
       "      <td>0.0</td>\n",
       "      <td>0</td>\n",
       "      <td>2015</td>\n",
       "      <td>0</td>\n",
       "    </tr>\n",
       "    <tr>\n",
       "      <th>2</th>\n",
       "      <td>794.70</td>\n",
       "      <td>109149.67</td>\n",
       "      <td>130.50</td>\n",
       "      <td>8145.35</td>\n",
       "      <td>103.14</td>\n",
       "      <td>0.0</td>\n",
       "      <td>0</td>\n",
       "      <td>2015</td>\n",
       "      <td>0</td>\n",
       "    </tr>\n",
       "    <tr>\n",
       "      <th>3</th>\n",
       "      <td>1132.00</td>\n",
       "      <td>71976.41</td>\n",
       "      <td>72.58</td>\n",
       "      <td>5811.16</td>\n",
       "      <td>133.76</td>\n",
       "      <td>0.0</td>\n",
       "      <td>0</td>\n",
       "      <td>2015</td>\n",
       "      <td>0</td>\n",
       "    </tr>\n",
       "    <tr>\n",
       "      <th>4</th>\n",
       "      <td>941.48</td>\n",
       "      <td>43838.39</td>\n",
       "      <td>75.78</td>\n",
       "      <td>6183.95</td>\n",
       "      <td>197.69</td>\n",
       "      <td>0.0</td>\n",
       "      <td>0</td>\n",
       "      <td>2015</td>\n",
       "      <td>0</td>\n",
       "    </tr>\n",
       "    <tr>\n",
       "      <th>...</th>\n",
       "      <td>...</td>\n",
       "      <td>...</td>\n",
       "      <td>...</td>\n",
       "      <td>...</td>\n",
       "      <td>...</td>\n",
       "      <td>...</td>\n",
       "      <td>...</td>\n",
       "      <td>...</td>\n",
       "      <td>...</td>\n",
       "    </tr>\n",
       "    <tr>\n",
       "      <th>18244</th>\n",
       "      <td>2046.96</td>\n",
       "      <td>1529.20</td>\n",
       "      <td>0.00</td>\n",
       "      <td>13498.67</td>\n",
       "      <td>431.85</td>\n",
       "      <td>0.0</td>\n",
       "      <td>1</td>\n",
       "      <td>2018</td>\n",
       "      <td>53</td>\n",
       "    </tr>\n",
       "    <tr>\n",
       "      <th>18245</th>\n",
       "      <td>1191.70</td>\n",
       "      <td>3431.50</td>\n",
       "      <td>0.00</td>\n",
       "      <td>9264.84</td>\n",
       "      <td>324.80</td>\n",
       "      <td>0.0</td>\n",
       "      <td>1</td>\n",
       "      <td>2018</td>\n",
       "      <td>53</td>\n",
       "    </tr>\n",
       "    <tr>\n",
       "      <th>18246</th>\n",
       "      <td>1191.92</td>\n",
       "      <td>2452.79</td>\n",
       "      <td>727.94</td>\n",
       "      <td>9394.11</td>\n",
       "      <td>42.31</td>\n",
       "      <td>0.0</td>\n",
       "      <td>1</td>\n",
       "      <td>2018</td>\n",
       "      <td>53</td>\n",
       "    </tr>\n",
       "    <tr>\n",
       "      <th>18247</th>\n",
       "      <td>1527.63</td>\n",
       "      <td>2981.04</td>\n",
       "      <td>727.01</td>\n",
       "      <td>10969.54</td>\n",
       "      <td>50.00</td>\n",
       "      <td>0.0</td>\n",
       "      <td>1</td>\n",
       "      <td>2018</td>\n",
       "      <td>53</td>\n",
       "    </tr>\n",
       "    <tr>\n",
       "      <th>18248</th>\n",
       "      <td>2894.77</td>\n",
       "      <td>2356.13</td>\n",
       "      <td>224.53</td>\n",
       "      <td>12014.15</td>\n",
       "      <td>26.01</td>\n",
       "      <td>0.0</td>\n",
       "      <td>1</td>\n",
       "      <td>2018</td>\n",
       "      <td>53</td>\n",
       "    </tr>\n",
       "  </tbody>\n",
       "</table>\n",
       "<p>17653 rows × 9 columns</p>\n",
       "</div>"
      ],
      "text/plain": [
       "          4046       4225    4770  Total Bags  Large Bags  XLarge Bags  type  \\\n",
       "0      1036.74   54454.85   48.16     8696.87       93.25          0.0     0   \n",
       "1       674.28   44638.81   58.33     9505.56       97.49          0.0     0   \n",
       "2       794.70  109149.67  130.50     8145.35      103.14          0.0     0   \n",
       "3      1132.00   71976.41   72.58     5811.16      133.76          0.0     0   \n",
       "4       941.48   43838.39   75.78     6183.95      197.69          0.0     0   \n",
       "...        ...        ...     ...         ...         ...          ...   ...   \n",
       "18244  2046.96    1529.20    0.00    13498.67      431.85          0.0     1   \n",
       "18245  1191.70    3431.50    0.00     9264.84      324.80          0.0     1   \n",
       "18246  1191.92    2452.79  727.94     9394.11       42.31          0.0     1   \n",
       "18247  1527.63    2981.04  727.01    10969.54       50.00          0.0     1   \n",
       "18248  2894.77    2356.13  224.53    12014.15       26.01          0.0     1   \n",
       "\n",
       "       year  region  \n",
       "0      2015       0  \n",
       "1      2015       0  \n",
       "2      2015       0  \n",
       "3      2015       0  \n",
       "4      2015       0  \n",
       "...     ...     ...  \n",
       "18244  2018      53  \n",
       "18245  2018      53  \n",
       "18246  2018      53  \n",
       "18247  2018      53  \n",
       "18248  2018      53  \n",
       "\n",
       "[17653 rows x 9 columns]"
      ]
     },
     "execution_count": 598,
     "metadata": {},
     "output_type": "execute_result"
    }
   ],
   "source": [
    "M = df_new.drop(['AveragePrice'], axis=1)\n",
    "M"
   ]
  },
  {
   "cell_type": "code",
   "execution_count": 634,
   "metadata": {},
   "outputs": [
    {
     "data": {
      "text/plain": [
       "array([[-0.65748818,  0.35119234, -0.22275418, ..., -1.01892949,\n",
       "        -1.21076129, -2.01062889],\n",
       "       [-0.77723494,  0.26929166, -0.17541644, ..., -1.01892949,\n",
       "        -1.21076129, -2.01062889],\n",
       "       [-0.73183666,  0.64903154,  0.02370957, ..., -1.01892949,\n",
       "        -1.21076129, -2.01062889],\n",
       "       ...,\n",
       "       [-0.61803808, -0.77896172,  0.44546112, ...,  0.98142218,\n",
       "         1.97863072,  1.57831989],\n",
       "       [-0.54709044, -0.71644563,  0.44515011, ...,  0.98142218,\n",
       "         1.97863072,  1.57831989],\n",
       "       [-0.35977488, -0.79171745,  0.15754187, ...,  0.98142218,\n",
       "         1.97863072,  1.57831989]])"
      ]
     },
     "execution_count": 634,
     "metadata": {},
     "output_type": "execute_result"
    }
   ],
   "source": [
    "data2 = power_transform(M, method = \"yeo-johnson\")\n",
    "data2"
   ]
  },
  {
   "cell_type": "code",
   "execution_count": 635,
   "metadata": {},
   "outputs": [
    {
     "data": {
      "text/plain": [
       "array([[-0.65748818,  0.35119234, -0.22275418, ..., -1.01892949,\n",
       "        -1.21073637, -2.01062889],\n",
       "       [-0.77723494,  0.26929166, -0.17541644, ..., -1.01892949,\n",
       "        -1.21073637, -2.01062889],\n",
       "       [-0.73183666,  0.64903154,  0.02370957, ..., -1.01892949,\n",
       "        -1.21073637, -2.01062889],\n",
       "       ...,\n",
       "       [-0.61803808, -0.77896172,  0.44546112, ...,  0.98142218,\n",
       "         1.97865564,  1.57831989],\n",
       "       [-0.54709044, -0.71644563,  0.44515011, ...,  0.98142218,\n",
       "         1.97865564,  1.57831989],\n",
       "       [-0.35977488, -0.79171745,  0.15754187, ...,  0.98142218,\n",
       "         1.97865564,  1.57831989]])"
      ]
     },
     "execution_count": 635,
     "metadata": {},
     "output_type": "execute_result"
    }
   ],
   "source": [
    "x = sc.fit_transform(data2)\n",
    "x"
   ]
  },
  {
   "cell_type": "code",
   "execution_count": 600,
   "metadata": {},
   "outputs": [
    {
     "data": {
      "text/html": [
       "<div>\n",
       "<style scoped>\n",
       "    .dataframe tbody tr th:only-of-type {\n",
       "        vertical-align: middle;\n",
       "    }\n",
       "\n",
       "    .dataframe tbody tr th {\n",
       "        vertical-align: top;\n",
       "    }\n",
       "\n",
       "    .dataframe thead th {\n",
       "        text-align: right;\n",
       "    }\n",
       "</style>\n",
       "<table border=\"1\" class=\"dataframe\">\n",
       "  <thead>\n",
       "    <tr style=\"text-align: right;\">\n",
       "      <th></th>\n",
       "      <th>AveragePrice</th>\n",
       "    </tr>\n",
       "  </thead>\n",
       "  <tbody>\n",
       "    <tr>\n",
       "      <th>0</th>\n",
       "      <td>1.33</td>\n",
       "    </tr>\n",
       "    <tr>\n",
       "      <th>1</th>\n",
       "      <td>1.35</td>\n",
       "    </tr>\n",
       "    <tr>\n",
       "      <th>2</th>\n",
       "      <td>0.93</td>\n",
       "    </tr>\n",
       "    <tr>\n",
       "      <th>3</th>\n",
       "      <td>1.08</td>\n",
       "    </tr>\n",
       "    <tr>\n",
       "      <th>4</th>\n",
       "      <td>1.28</td>\n",
       "    </tr>\n",
       "    <tr>\n",
       "      <th>...</th>\n",
       "      <td>...</td>\n",
       "    </tr>\n",
       "    <tr>\n",
       "      <th>18244</th>\n",
       "      <td>1.63</td>\n",
       "    </tr>\n",
       "    <tr>\n",
       "      <th>18245</th>\n",
       "      <td>1.71</td>\n",
       "    </tr>\n",
       "    <tr>\n",
       "      <th>18246</th>\n",
       "      <td>1.87</td>\n",
       "    </tr>\n",
       "    <tr>\n",
       "      <th>18247</th>\n",
       "      <td>1.93</td>\n",
       "    </tr>\n",
       "    <tr>\n",
       "      <th>18248</th>\n",
       "      <td>1.62</td>\n",
       "    </tr>\n",
       "  </tbody>\n",
       "</table>\n",
       "<p>17653 rows × 1 columns</p>\n",
       "</div>"
      ],
      "text/plain": [
       "       AveragePrice\n",
       "0              1.33\n",
       "1              1.35\n",
       "2              0.93\n",
       "3              1.08\n",
       "4              1.28\n",
       "...             ...\n",
       "18244          1.63\n",
       "18245          1.71\n",
       "18246          1.87\n",
       "18247          1.93\n",
       "18248          1.62\n",
       "\n",
       "[17653 rows x 1 columns]"
      ]
     },
     "execution_count": 600,
     "metadata": {},
     "output_type": "execute_result"
    }
   ],
   "source": [
    "y = df_new.iloc[:,:1]\n",
    "y"
   ]
  },
  {
   "cell_type": "code",
   "execution_count": 601,
   "metadata": {},
   "outputs": [],
   "source": [
    "from sklearn.linear_model import LinearRegression\n",
    "from sklearn.tree import DecisionTreeRegressor\n",
    "from sklearn.neighbors import KNeighborsRegressor\n",
    "from sklearn.ensemble import RandomForestRegressor\n",
    "from sklearn.svm import SVR\n",
    "from sklearn.metrics import mean_squared_error"
   ]
  },
  {
   "cell_type": "code",
   "execution_count": 636,
   "metadata": {},
   "outputs": [
    {
     "name": "stdout",
     "output_type": "stream",
     "text": [
      "Best r2 score is  0.5165395626644054 on Random state  147\n"
     ]
    }
   ],
   "source": [
    "from sklearn.metrics import r2_score\n",
    "\n",
    "maxscore=0\n",
    "maxRS=0\n",
    "for i in range(1,200):\n",
    "    x_train,x_test,y_train,y_test=train_test_split(x,y,test_size=0.3, random_state=i)\n",
    "    mod = LinearRegression()\n",
    "    mod.fit(x_train,y_train)\n",
    "    pred = mod.predict(x_test)\n",
    "    r2score = r2_score(y_test,pred)\n",
    "    if r2score>maxscore:\n",
    "        maxscore=r2score\n",
    "        maxRS=i\n",
    "print(\"Best r2 score is \", maxscore, 'on Random state ', maxRS)"
   ]
  },
  {
   "cell_type": "code",
   "execution_count": 637,
   "metadata": {},
   "outputs": [],
   "source": [
    "x_train,x_test,y_train,y_test=train_test_split(x,y,test_size=0.3, random_state=147)"
   ]
  },
  {
   "cell_type": "code",
   "execution_count": 638,
   "metadata": {},
   "outputs": [
    {
     "data": {
      "text/plain": [
       "(5296, 9)"
      ]
     },
     "execution_count": 638,
     "metadata": {},
     "output_type": "execute_result"
    }
   ],
   "source": [
    "x_test.shape"
   ]
  },
  {
   "cell_type": "code",
   "execution_count": 639,
   "metadata": {},
   "outputs": [
    {
     "data": {
      "text/plain": [
       "(5296, 1)"
      ]
     },
     "execution_count": 639,
     "metadata": {},
     "output_type": "execute_result"
    }
   ],
   "source": [
    "y_test.shape"
   ]
  },
  {
   "cell_type": "code",
   "execution_count": 640,
   "metadata": {},
   "outputs": [
    {
     "data": {
      "text/plain": [
       "(12357, 9)"
      ]
     },
     "execution_count": 640,
     "metadata": {},
     "output_type": "execute_result"
    }
   ],
   "source": [
    "x_train.shape"
   ]
  },
  {
   "cell_type": "code",
   "execution_count": 641,
   "metadata": {},
   "outputs": [
    {
     "data": {
      "text/plain": [
       "(12357, 1)"
      ]
     },
     "execution_count": 641,
     "metadata": {},
     "output_type": "execute_result"
    }
   ],
   "source": [
    "y_train.shape"
   ]
  },
  {
   "cell_type": "code",
   "execution_count": 642,
   "metadata": {},
   "outputs": [
    {
     "name": "stdout",
     "output_type": "stream",
     "text": [
      "LinearRegression()\n",
      "0.48571911098660325\n",
      "R2 score for : LinearRegression() is 0.5165395626644054\n",
      "Mean Squared Error for  LinearRegression() is: 0.07413502701373473\n",
      "\n",
      "\n",
      "KNeighborsRegressor()\n",
      "0.8886521370944797\n",
      "R2 score for : KNeighborsRegressor() is 0.8145041329544906\n",
      "Mean Squared Error for  KNeighborsRegressor() is: 0.02844439803625378\n",
      "\n",
      "\n",
      "DecisionTreeRegressor()\n",
      "1.0\n",
      "R2 score for : DecisionTreeRegressor() is 0.6587583086764368\n",
      "Mean Squared Error for  DecisionTreeRegressor() is: 0.0523268504531722\n",
      "\n",
      "\n",
      "SVR()\n",
      "0.7196209650404043\n",
      "R2 score for : SVR() is 0.7153462223247333\n",
      "Mean Squared Error for  SVR() is: 0.04364951890131394\n",
      "\n",
      "\n",
      "RandomForestRegressor()\n",
      "0.9771951030102294\n",
      "R2 score for : RandomForestRegressor() is 0.8326330620766536\n",
      "Mean Squared Error for  RandomForestRegressor() is: 0.025664462913519637\n",
      "\n",
      "\n"
     ]
    }
   ],
   "source": [
    "model=[LinearRegression(),KNeighborsRegressor(), DecisionTreeRegressor(), SVR(), RandomForestRegressor()]\n",
    "\n",
    "for m in model:\n",
    "    m.fit(x_train,y_train)\n",
    "    m.score(x_train,y_train)\n",
    "    m_pred=m.predict(x_test)\n",
    "    r2sscore = r2_score(y_test,m_pred)\n",
    "    MSE= mean_squared_error(y_test,m_pred)\n",
    "    \n",
    "    print(m)\n",
    "    print(m.score(x_train,y_train))\n",
    "    print('R2 score for :', m, 'is', r2sscore)\n",
    "    print('Mean Squared Error for ',m ,\"is:\" ,MSE)\n",
    "    print(\"\\n\")"
   ]
  },
  {
   "cell_type": "code",
   "execution_count": 643,
   "metadata": {},
   "outputs": [
    {
     "name": "stdout",
     "output_type": "stream",
     "text": [
      "LinearRegression() CV Score is  0.08766371039781799\n",
      "KNeighborsRegressor() CV Score is  0.08592452776693327\n",
      "DecisionTreeRegressor() CV Score is  -0.3483933498270863\n",
      "SVR() CV Score is  0.0015995964254096108\n",
      "RandomForestRegressor() CV Score is  0.2599793494067578\n"
     ]
    }
   ],
   "source": [
    "from sklearn.model_selection import KFold\n",
    "from sklearn.model_selection import cross_val_score\n",
    "for i in model:\n",
    "    kfold=KFold(5)\n",
    "    score=cross_val_score(i,x,y,cv=kfold)\n",
    "    print(i, \"CV Score is \",score.mean())"
   ]
  },
  {
   "cell_type": "markdown",
   "metadata": {},
   "source": [
    "When i checked the accuracy score with CV score, DecisionTree Regressor has the least differance. Now I will check which parameters are best to use with the model with the help of hyperparameter tuning."
   ]
  },
  {
   "cell_type": "code",
   "execution_count": 644,
   "metadata": {},
   "outputs": [],
   "source": [
    "parameter = {'criterion' : [\"squared_error\", \"mse\", \"friedman_mse\", \"absolute_error\", \"mae\", \"poisson\"],\n",
    "            'min_samples_leaf' : np.arange(1,20),\n",
    "            'max_depth': np.arange(1,20),\n",
    "            'splitter':['best', 'random']}"
   ]
  },
  {
   "cell_type": "code",
   "execution_count": null,
   "metadata": {},
   "outputs": [],
   "source": [
    "#GSV2 = GridSearchCV(DecisionTreeRegressor(),parameter,cv=5)\n",
    "#GSV2.fit(x_train,y_train)"
   ]
  },
  {
   "cell_type": "code",
   "execution_count": 647,
   "metadata": {},
   "outputs": [
    {
     "data": {
      "text/plain": [
       "{'criterion': 'mse',\n",
       " 'max_depth': 15,\n",
       " 'min_samples_leaf': 8,\n",
       " 'splitter': 'best'}"
      ]
     },
     "execution_count": 647,
     "metadata": {},
     "output_type": "execute_result"
    }
   ],
   "source": [
    "#GSV2.best_params_"
   ]
  },
  {
   "cell_type": "code",
   "execution_count": 652,
   "metadata": {},
   "outputs": [
    {
     "name": "stdout",
     "output_type": "stream",
     "text": [
      "0.8644896404613325\n",
      "R2 score is : 0.7117197229125842\n",
      "Mean Squared Error is  0.04420561534917765\n"
     ]
    }
   ],
   "source": [
    "Final_Model = DecisionTreeRegressor(criterion= 'mse', max_depth= 15, min_samples_leaf= 8, splitter= 'best')\n",
    "Final_Model.fit(x_train,y_train)\n",
    "Final_Model.score(x_train,y_train)\n",
    "model_pred=Final_Model.predict(x_test)\n",
    "r2score = r2_score(y_test,model_pred)\n",
    "MSE= mean_squared_error(y_test,model_pred)\n",
    "\n",
    "print(Final_Model.score(x_train,y_train))\n",
    "print('R2 score is :',r2score)\n",
    "print('Mean Squared Error is ',MSE) "
   ]
  },
  {
   "cell_type": "markdown",
   "metadata": {},
   "source": [
    "With the Hyperparameter tuning we improved R2 score to 0.71. "
   ]
  },
  {
   "cell_type": "code",
   "execution_count": 653,
   "metadata": {},
   "outputs": [
    {
     "data": {
      "text/plain": [
       "['avocado.ipynb.obj']"
      ]
     },
     "execution_count": 653,
     "metadata": {},
     "output_type": "execute_result"
    }
   ],
   "source": [
    "import joblib\n",
    "joblib.dump(Final_Model,'avocado.ipynb.obj')"
   ]
  },
  {
   "cell_type": "code",
   "execution_count": null,
   "metadata": {},
   "outputs": [],
   "source": []
  }
 ],
 "metadata": {
  "kernelspec": {
   "display_name": "Python 3",
   "language": "python",
   "name": "python3"
  },
  "language_info": {
   "codemirror_mode": {
    "name": "ipython",
    "version": 3
   },
   "file_extension": ".py",
   "mimetype": "text/x-python",
   "name": "python",
   "nbconvert_exporter": "python",
   "pygments_lexer": "ipython3",
   "version": "3.8.5"
  }
 },
 "nbformat": 4,
 "nbformat_minor": 4
}
